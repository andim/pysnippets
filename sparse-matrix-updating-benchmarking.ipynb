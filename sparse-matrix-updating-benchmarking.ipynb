{
 "cells": [
  {
   "cell_type": "markdown",
   "metadata": {},
   "source": [
    "# Benchmarking different ways of updating a sparse matrix\n",
    "\n",
    "Problem: We want to build a new sparse matrix by replacing or appending a column/row. How can we do so efficiently? We then want to use these matrices for fast matrix vector multiplication potentially requiring a cast to another sparse matrix type. What is the best overall compromise?"
   ]
  },
  {
   "cell_type": "code",
   "execution_count": 1,
   "metadata": {
    "collapsed": true
   },
   "outputs": [],
   "source": [
    "import numpy as np\n",
    "import scipy.sparse"
   ]
  },
  {
   "cell_type": "code",
   "execution_count": 2,
   "metadata": {
    "collapsed": false
   },
   "outputs": [],
   "source": [
    "sparsity = 0.001\n",
    "N, M = 10000, 200\n",
    "rowvec = np.ones(N)\n",
    "colvec = np.ones(M)\n",
    "Aorig = np.random.random((N, M)) < sparsity"
   ]
  },
  {
   "cell_type": "code",
   "execution_count": 3,
   "metadata": {
    "collapsed": false
   },
   "outputs": [
    {
     "name": "stdout",
     "output_type": "stream",
     "text": [
      "The slowest run took 4.20 times longer than the fastest. This could mean that an intermediate result is being cached.\n",
      "100 loops, best of 3: 6.38 ms per loop\n"
     ]
    }
   ],
   "source": [
    "%timeit scipy.sparse.csr_matrix(Aorig)"
   ]
  },
  {
   "cell_type": "code",
   "execution_count": 4,
   "metadata": {
    "collapsed": false
   },
   "outputs": [
    {
     "name": "stdout",
     "output_type": "stream",
     "text": [
      "100 loops, best of 3: 18.6 ms per loop\n"
     ]
    }
   ],
   "source": [
    "%timeit scipy.sparse.lil_matrix(Aorig)"
   ]
  },
  {
   "cell_type": "code",
   "execution_count": 5,
   "metadata": {
    "collapsed": false
   },
   "outputs": [
    {
     "name": "stdout",
     "output_type": "stream",
     "text": [
      "100 loops, best of 3: 3.19 ms per loop\n"
     ]
    }
   ],
   "source": [
    "Alil = scipy.sparse.lil_matrix(Aorig)\n",
    "%timeit scipy.sparse.csr_matrix(Alil)"
   ]
  },
  {
   "cell_type": "code",
   "execution_count": 6,
   "metadata": {
    "collapsed": false
   },
   "outputs": [
    {
     "name": "stdout",
     "output_type": "stream",
     "text": [
      "1000 loops, best of 3: 968 µs per loop\n"
     ]
    }
   ],
   "source": [
    "Adok = scipy.sparse.dok_matrix(Aorig)\n",
    "%timeit scipy.sparse.csr_matrix(Adok)"
   ]
  },
  {
   "cell_type": "markdown",
   "metadata": {},
   "source": [
    "## replace row"
   ]
  },
  {
   "cell_type": "code",
   "execution_count": 7,
   "metadata": {
    "collapsed": true
   },
   "outputs": [],
   "source": [
    "index = 3\n",
    "newrow = np.random.random(N) < sparsity"
   ]
  },
  {
   "cell_type": "code",
   "execution_count": 8,
   "metadata": {
    "collapsed": false
   },
   "outputs": [
    {
     "name": "stdout",
     "output_type": "stream",
     "text": [
      "The slowest run took 4.07 times longer than the fastest. This could mean that an intermediate result is being cached.\n",
      "10000 loops, best of 3: 32.9 µs per loop\n"
     ]
    }
   ],
   "source": [
    "Arow = Aorig[:, :]\n",
    "%timeit Arow[:, index] = newrow"
   ]
  },
  {
   "cell_type": "code",
   "execution_count": 9,
   "metadata": {
    "collapsed": false
   },
   "outputs": [],
   "source": [
    "def replacerow(A, rowindex, row):\n",
    "    # see http://stackoverflow.com/questions/12129948/scipy-sparse-set-row-to-zeros\n",
    "    # zero extant values\n",
    "    A.data[A.indptr[rowindex]:A.indptr[rowindex+1]] = 0.0\n",
    "    indices = np.nonzero(newrow)\n",
    "    A[indices, rowindex] = newrow[indices]"
   ]
  },
  {
   "cell_type": "code",
   "execution_count": 10,
   "metadata": {
    "collapsed": false
   },
   "outputs": [
    {
     "name": "stdout",
     "output_type": "stream",
     "text": [
      "True\n",
      "The slowest run took 4.85 times longer than the fastest. This could mean that an intermediate result is being cached.\n",
      "10000 loops, best of 3: 91.6 µs per loop\n"
     ]
    }
   ],
   "source": [
    "Acsrrow = scipy.sparse.csr_matrix(Aorig)\n",
    "replacerow(Acsrrow, index, newrow)\n",
    "print(np.all(Acsrrow == Arow))\n",
    "%timeit replacerow(Acsrrow, index, newrow)"
   ]
  },
  {
   "cell_type": "code",
   "execution_count": 11,
   "metadata": {
    "collapsed": false
   },
   "outputs": [
    {
     "name": "stderr",
     "output_type": "stream",
     "text": [
      "/home/andreas/miniconda2/envs/evolimmune/lib/python2.7/site-packages/scipy/sparse/compressed.py:730: SparseEfficiencyWarning: Changing the sparsity structure of a csr_matrix is expensive. lil_matrix is more efficient.\n",
      "  SparseEfficiencyWarning)\n"
     ]
    },
    {
     "name": "stdout",
     "output_type": "stream",
     "text": [
      "The slowest run took 339.45 times longer than the fastest. This could mean that an intermediate result is being cached.\n",
      "1000 loops, best of 3: 323 µs per loop\n",
      "True\n",
      "(12035, 2048)\n"
     ]
    }
   ],
   "source": [
    "Acsrrow = scipy.sparse.csr_matrix(Aorig)\n",
    "%timeit Acsrrow[:, index] = newrow[:, None]\n",
    "print(np.all(Acsrrow == Arow))\n",
    "print(Acsrrow.nnz, np.count_nonzero(Arow))"
   ]
  },
  {
   "cell_type": "code",
   "execution_count": 12,
   "metadata": {
    "collapsed": false
   },
   "outputs": [
    {
     "name": "stdout",
     "output_type": "stream",
     "text": [
      "The slowest run took 4.00 times longer than the fastest. This could mean that an intermediate result is being cached.\n",
      "10000 loops, best of 3: 29.5 µs per loop\n"
     ]
    },
    {
     "data": {
      "text/plain": [
       "(2048, 2048)"
      ]
     },
     "execution_count": 12,
     "metadata": {},
     "output_type": "execute_result"
    }
   ],
   "source": [
    "%timeit Acsrrow.eliminate_zeros()\n",
    "Acsrrow.nnz, np.count_nonzero(Arow)"
   ]
  },
  {
   "cell_type": "code",
   "execution_count": 13,
   "metadata": {
    "collapsed": false
   },
   "outputs": [
    {
     "name": "stdout",
     "output_type": "stream",
     "text": [
      "1000 loops, best of 3: 595 µs per loop\n",
      "True\n",
      "(2048, 2048)\n"
     ]
    }
   ],
   "source": [
    "Alilrow = scipy.sparse.lil_matrix(Aorig)\n",
    "%timeit Alilrow[:, index] = newrow[:, None]\n",
    "print(np.all(Alilrow == Arow))\n",
    "print(Alilrow.nnz, np.count_nonzero(Arow))"
   ]
  },
  {
   "cell_type": "markdown",
   "metadata": {},
   "source": [
    "## append row"
   ]
  },
  {
   "cell_type": "code",
   "execution_count": 14,
   "metadata": {
    "collapsed": false
   },
   "outputs": [
    {
     "name": "stdout",
     "output_type": "stream",
     "text": [
      "1000 loops, best of 3: 332 µs per loop\n"
     ]
    }
   ],
   "source": [
    "%timeit np.concatenate((Aorig, newrow[:, None]), axis=1)\n",
    "Aprow = np.concatenate((Aorig, newrow[:, None]), axis=1)"
   ]
  },
  {
   "cell_type": "code",
   "execution_count": 15,
   "metadata": {
    "collapsed": false
   },
   "outputs": [
    {
     "name": "stdout",
     "output_type": "stream",
     "text": [
      "True\n",
      "1000 loops, best of 3: 624 µs per loop\n"
     ]
    }
   ],
   "source": [
    "Acsrprow = scipy.sparse.csr_matrix(Aorig)\n",
    "print(np.all(Aprow==scipy.sparse.hstack((Acsrprow, scipy.sparse.csr_matrix(newrow[:, None])))))\n",
    "%timeit scipy.sparse.hstack((Acsrprow, scipy.sparse.csr_matrix(newrow[:, None])))"
   ]
  },
  {
   "cell_type": "code",
   "execution_count": 16,
   "metadata": {
    "collapsed": true
   },
   "outputs": [],
   "source": [
    "def append(A, x):\n",
    "    A._shape = (A.shape[0]+1, A.shape[1])\n",
    "    A.indptr = np.hstack((A.indptr, A.indptr[-1]))\n",
    "    A[-1, :] = x\n",
    "    return A"
   ]
  },
  {
   "cell_type": "code",
   "execution_count": 17,
   "metadata": {
    "collapsed": false
   },
   "outputs": [
    {
     "name": "stderr",
     "output_type": "stream",
     "text": [
      "/home/andreas/miniconda2/envs/evolimmune/lib/python2.7/site-packages/scipy/sparse/compressed.py:225: SparseEfficiencyWarning: Comparing sparse matrices using == is inefficient, try using != instead.\n",
      "  \" != instead.\", SparseEfficiencyWarning)\n"
     ]
    },
    {
     "data": {
      "text/plain": [
       "True"
      ]
     },
     "execution_count": 17,
     "metadata": {},
     "output_type": "execute_result"
    }
   ],
   "source": [
    "newcol = np.random.random(M) < sparsity\n",
    "np.all((append(scipy.sparse.csr_matrix(Aorig), newcol) == scipy.sparse.vstack((scipy.sparse.csr_matrix(Aorig), scipy.sparse.csr_matrix(newcol[None, :])))).todense())"
   ]
  },
  {
   "cell_type": "code",
   "execution_count": 18,
   "metadata": {
    "collapsed": false
   },
   "outputs": [
    {
     "name": "stdout",
     "output_type": "stream",
     "text": [
      "1000 loops, best of 3: 5.06 ms per loop\n"
     ]
    }
   ],
   "source": [
    "Acsr = scipy.sparse.csr_matrix(Aorig)\n",
    "%timeit append(Acsr, newcol)"
   ]
  },
  {
   "cell_type": "code",
   "execution_count": 19,
   "metadata": {
    "collapsed": false
   },
   "outputs": [
    {
     "name": "stdout",
     "output_type": "stream",
     "text": [
      "1000 loops, best of 3: 268 µs per loop\n"
     ]
    }
   ],
   "source": [
    "Acsr = scipy.sparse.csr_matrix(Aorig)\n",
    "%timeit scipy.sparse.vstack((Acsr, scipy.sparse.csr_matrix(newcol[None, :])))"
   ]
  },
  {
   "cell_type": "code",
   "execution_count": 20,
   "metadata": {
    "collapsed": true
   },
   "outputs": [],
   "source": [
    "def spmatreplacecol(A, colindex, newcol):\n",
    "    row, col = A.nonzero()\n",
    "    A.data[col == colindex] = 0.0\n",
    "    indices = np.nonzero(newcol)\n",
    "    A[indices, colindex] = newcol[indices]\n",
    "    return A"
   ]
  },
  {
   "cell_type": "code",
   "execution_count": 36,
   "metadata": {
    "collapsed": true
   },
   "outputs": [],
   "source": [
    "colindex = 3\n",
    "newcol = np.random.random(N) < sparsity"
   ]
  },
  {
   "cell_type": "code",
   "execution_count": 32,
   "metadata": {
    "collapsed": false
   },
   "outputs": [
    {
     "data": {
      "text/plain": [
       "(10000, 200)"
      ]
     },
     "execution_count": 32,
     "metadata": {},
     "output_type": "execute_result"
    }
   ],
   "source": [
    "Acsr.shape"
   ]
  },
  {
   "cell_type": "code",
   "execution_count": 45,
   "metadata": {
    "collapsed": false
   },
   "outputs": [
    {
     "name": "stdout",
     "output_type": "stream",
     "text": [
      "CPU times: user 104 ms, sys: 0 ns, total: 104 ms\n",
      "Wall time: 105 ms\n"
     ]
    }
   ],
   "source": [
    "Acsr = scipy.sparse.csr_matrix(Aorig)\n",
    "%time Acsr[:, colindex] = newcol[:, None]"
   ]
  },
  {
   "cell_type": "code",
   "execution_count": 44,
   "metadata": {
    "collapsed": false
   },
   "outputs": [
    {
     "name": "stdout",
     "output_type": "stream",
     "text": [
      "CPU times: user 0 ns, sys: 0 ns, total: 0 ns\n",
      "Wall time: 901 µs\n"
     ]
    },
    {
     "data": {
      "text/plain": [
       "<10000x200 sparse matrix of type '<type 'numpy.bool_'>'\n",
       "\twith 2060 stored elements in Compressed Sparse Row format>"
      ]
     },
     "execution_count": 44,
     "metadata": {},
     "output_type": "execute_result"
    }
   ],
   "source": [
    "Acsr2 = scipy.sparse.csr_matrix(Aorig)\n",
    "%time spmatreplacecol(Acsr2, colindex, newcol)"
   ]
  },
  {
   "cell_type": "code",
   "execution_count": 47,
   "metadata": {
    "collapsed": false
   },
   "outputs": [
    {
     "data": {
      "text/plain": [
       "True"
      ]
     },
     "execution_count": 47,
     "metadata": {},
     "output_type": "execute_result"
    }
   ],
   "source": [
    "np.all(Acsr2.todense() == Acsr)"
   ]
  },
  {
   "cell_type": "code",
   "execution_count": null,
   "metadata": {
    "collapsed": true
   },
   "outputs": [],
   "source": []
  }
 ],
 "metadata": {
  "anaconda-cloud": {},
  "kernelspec": {
   "display_name": "Python [conda env:evolimmune]",
   "language": "python",
   "name": "conda-env-evolimmune-py"
  },
  "language_info": {
   "codemirror_mode": {
    "name": "ipython",
    "version": 2
   },
   "file_extension": ".py",
   "mimetype": "text/x-python",
   "name": "python",
   "nbconvert_exporter": "python",
   "pygments_lexer": "ipython2",
   "version": "2.7.13"
  },
  "toc": {
   "colors": {
    "hover_highlight": "#DAA520",
    "running_highlight": "#FF0000",
    "selected_highlight": "#FFD700"
   },
   "moveMenuLeft": true,
   "nav_menu": {
    "height": "78px",
    "width": "252px"
   },
   "navigate_menu": true,
   "number_sections": true,
   "sideBar": true,
   "threshold": 4,
   "toc_cell": false,
   "toc_section_display": "block",
   "toc_window_display": false
  }
 },
 "nbformat": 4,
 "nbformat_minor": 0
}
