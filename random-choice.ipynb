{
 "metadata": {
  "name": "",
  "signature": "sha256:6710b1a3eaeb3629e326a243c95cca1badfb46b940936367a12a4f3df13b281d"
 },
 "nbformat": 3,
 "nbformat_minor": 0,
 "worksheets": [
  {
   "cells": [
    {
     "cell_type": "heading",
     "level": 1,
     "metadata": {},
     "source": [
      "A comparison of methods of random choice using numpy"
     ]
    },
    {
     "cell_type": "markdown",
     "metadata": {},
     "source": [
      "random.choice (only numpy > 1.7) vs a random.multinomial based implementation of the same weighted choice"
     ]
    },
    {
     "cell_type": "code",
     "collapsed": false,
     "input": [
      "import numpy as np"
     ],
     "language": "python",
     "metadata": {},
     "outputs": [],
     "prompt_number": 1
    },
    {
     "cell_type": "code",
     "collapsed": false,
     "input": [
      "p = [0.5, 0.3, 0.2]"
     ],
     "language": "python",
     "metadata": {},
     "outputs": [],
     "prompt_number": 2
    },
    {
     "cell_type": "code",
     "collapsed": false,
     "input": [
      "prng = np.random.RandomState(2)\n",
      "print prng.choice(3, size = 3, p = p)\n",
      "print np.repeat(np.arange(3), prng.multinomial(3, p))"
     ],
     "language": "python",
     "metadata": {},
     "outputs": [
      {
       "output_type": "stream",
       "stream": "stdout",
       "text": [
        "[0 0 1]\n",
        "[0 1 2]\n"
       ]
      }
     ],
     "prompt_number": 3
    },
    {
     "cell_type": "code",
     "collapsed": false,
     "input": [
      "N = 100000\n",
      "print np.bincount(np.random.choice(3, size = 3 * N, p = p))/(3.0 * N)\n",
      "print np.bincount(np.asarray([np.repeat(np.arange(3), np.random.multinomial(3, p)) for i in range(N)]).flatten())/(3.0 *N)"
     ],
     "language": "python",
     "metadata": {},
     "outputs": [
      {
       "output_type": "stream",
       "stream": "stdout",
       "text": [
        "[ 0.49929667  0.3007      0.20000333]\n",
        "[ 0.50013667  0.30014667  0.19971667]"
       ]
      },
      {
       "output_type": "stream",
       "stream": "stdout",
       "text": [
        "\n"
       ]
      }
     ],
     "prompt_number": 4
    },
    {
     "cell_type": "markdown",
     "metadata": {},
     "source": [
      "Conclusion: Both methods are statistically equivalent. They do not give the same results for the same random seed, though."
     ]
    }
   ],
   "metadata": {}
  }
 ]
}