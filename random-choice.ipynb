{
 "cells": [
  {
   "cell_type": "markdown",
   "metadata": {},
   "source": [
    "# A comparison of methods of random choice"
   ]
  },
  {
   "cell_type": "markdown",
   "metadata": {},
   "source": [
    "`random.choice` vs. a `random.multinomial` based implementation of the same weighted choice. Also compare with a GNU Scientific Library based implementation.\n",
    "\n",
    "Context: `random.choice` is only available in numpy >= 1.7, so I was trying to find a simple substitute for machines running older numpy versions."
   ]
  },
  {
   "cell_type": "code",
   "execution_count": 26,
   "metadata": {
    "collapsed": false
   },
   "outputs": [
    {
     "name": "stdout",
     "output_type": "stream",
     "text": [
      "The Cython extension is already loaded. To reload it, use:\n",
      "  %reload_ext Cython\n"
     ]
    }
   ],
   "source": [
    "import numpy as np\n",
    "%load_ext Cython"
   ]
  },
  {
   "cell_type": "markdown",
   "metadata": {},
   "source": [
    "## GSL based multinomial called using CythonGSL wrapper"
   ]
  },
  {
   "cell_type": "code",
   "execution_count": 27,
   "metadata": {
    "collapsed": false
   },
   "outputs": [],
   "source": [
    "%%cython -l gsl\n",
    "\n",
    "cimport cython\n",
    "from cython_gsl cimport *\n",
    "\n",
    "import numpy as np\n",
    "from numpy cimport *\n",
    "\n",
    "cdef gsl_rng *r = gsl_rng_alloc(gsl_rng_mt19937)\n",
    "\n",
    "def multinomial(ndarray[double, ndim=1] p, unsigned int N):\n",
    "    cdef:\n",
    "       size_t K = p.shape[0]\n",
    "       ndarray[uint32_t, ndim=1] n = np.empty_like(p, dtype='uint32')\n",
    "    \n",
    "    # void gsl_ran_multinomial (const gsl_rng * r, size_t K, unsigned int N, const double p[], unsigned int n[])\n",
    "    gsl_ran_multinomial(r, K, N, <double*> p.data, <unsigned int *> n.data)\n",
    "    \n",
    "    return n"
   ]
  },
  {
   "cell_type": "markdown",
   "metadata": {},
   "source": [
    "## GSL based multinomial called directly"
   ]
  },
  {
   "cell_type": "code",
   "execution_count": 30,
   "metadata": {
    "collapsed": false
   },
   "outputs": [],
   "source": [
    "%%cython -l gsl\n",
    "\n",
    "cimport cython\n",
    "\n",
    "import numpy as np\n",
    "from numpy cimport *\n",
    "\n",
    "cdef extern from \"gsl/gsl_rng.h\":\n",
    "    ctypedef struct gsl_rng_type\n",
    "    ctypedef struct gsl_rng\n",
    "    \n",
    "    cdef gsl_rng_type *gsl_rng_mt19937\n",
    "    \n",
    "    gsl_rng *gsl_rng_alloc ( gsl_rng_type * T) nogil\n",
    "\n",
    "cdef extern from \"gsl/gsl_randist.h\":\n",
    "    void gsl_ran_multinomial ( gsl_rng * r,  size_t K,\n",
    "                               unsigned int N,  double p[],\n",
    "                               unsigned int n[] ) nogil\n",
    "    void gsl_rng_set (const gsl_rng * r, unsigned long int s) nogil\n",
    "\n",
    "cdef gsl_rng *r = gsl_rng_alloc(gsl_rng_mt19937)\n",
    "\n",
    "def seed_directgsl(unsigned long int seed):\n",
    "    gsl_rng_set(r, seed)\n",
    "\n",
    "def multinomial_directgsl(ndarray[double, ndim=1] p, unsigned int N):\n",
    "    cdef:\n",
    "       size_t K = p.shape[0]\n",
    "       ndarray[uint32_t, ndim=1] n = np.empty_like(p, dtype='uint32')\n",
    "    \n",
    "    # void gsl_ran_multinomial (const gsl_rng * r, size_t K, unsigned int N, const double p[], unsigned int n[])\n",
    "    gsl_ran_multinomial(r, K, N, <double*> p.data, <unsigned int *> n.data)\n",
    "    \n",
    "    return n"
   ]
  },
  {
   "cell_type": "code",
   "execution_count": 69,
   "metadata": {
    "collapsed": true
   },
   "outputs": [],
   "source": [
    "def choice(p):\n",
    "    n = np.random.random(p.shape)\n",
    "    pcum = p.cumsum()\n",
    "    return pcum.searchsorted(n)"
   ]
  },
  {
   "cell_type": "markdown",
   "metadata": {},
   "source": [
    "## Test equivalence of results"
   ]
  },
  {
   "cell_type": "code",
   "execution_count": 8,
   "metadata": {
    "collapsed": false
   },
   "outputs": [
    {
     "name": "stdout",
     "output_type": "stream",
     "text": [
      "[1 1 0]\n",
      "[0 0 2]\n",
      "[0 0 0]\n",
      "[0 0 0]\n"
     ]
    }
   ],
   "source": [
    "p = np.array([0.5, 0.3, 0.2])\n",
    "prng = np.random.RandomState(3)\n",
    "print prng.choice(3, size = 3, p = p)\n",
    "print np.repeat(np.arange(3), prng.multinomial(3, p))\n",
    "print np.repeat(np.arange(3), multinomial(p, 3))\n",
    "print np.repeat(np.arange(3), multinomial_directgsl(p, 3))"
   ]
  },
  {
   "cell_type": "code",
   "execution_count": 65,
   "metadata": {
    "collapsed": false
   },
   "outputs": [
    {
     "name": "stdout",
     "output_type": "stream",
     "text": [
      "[ 0.50114667  0.29833     0.20052333]\n",
      "[ 0.49891     0.29993667  0.20115333]\n",
      "[ 0.50167333  0.29891     0.19941667]\n",
      "[ 0.50043333  0.29975333  0.19981333]\n",
      "[ 0.50031333  0.30023333  0.19945333]\n"
     ]
    }
   ],
   "source": [
    "N = 100000\n",
    "print np.bincount(np.random.choice(3, size = 3 * N, p = p))/(3.0 * N)\n",
    "print np.bincount(np.asarray([np.repeat(np.arange(3), np.random.multinomial(3, p)) for i in range(N)]).flatten())/(3.0 *N)\n",
    "print np.bincount(np.asarray([np.repeat(np.arange(3), multinomial(p, 3)) for i in range(N)]).flatten())/(3.0 *N)\n",
    "print np.bincount(np.asarray([np.repeat(np.arange(3), multinomial_directgsl(p, 3)) for i in range(N)]).flatten())/(3.0 *N)\n",
    "print np.bincount(np.asarray([choice(p) for i in range(N)]).flatten())/(3.0 *N)"
   ]
  },
  {
   "cell_type": "markdown",
   "metadata": {},
   "source": [
    "Conclusion: All methods are statistically equivalent. They do not give the same results for the same random seed, though."
   ]
  },
  {
   "cell_type": "markdown",
   "metadata": {},
   "source": [
    "## Time execution times"
   ]
  },
  {
   "cell_type": "code",
   "execution_count": 70,
   "metadata": {
    "collapsed": false
   },
   "outputs": [
    {
     "name": "stdout",
     "output_type": "stream",
     "text": [
      "10000 loops, best of 3: 56.7 µs per loop\n",
      "10000 loops, best of 3: 1.87 µs per loop\n",
      "10000 loops, best of 3: 2.97 µs per loop\n",
      "10000 loops, best of 3: 2.97 µs per loop\n",
      "10000 loops, best of 3: 2.07 µs per loop\n"
     ]
    }
   ],
   "source": [
    "p = np.array([0.5, 0.3, 0.2])\n",
    "%timeit -n 10000 prng.choice(3, size = 3, p = p)\n",
    "%timeit -n 10000 np.repeat(np.arange(3), prng.multinomial(3, p))\n",
    "%timeit -n 10000 np.repeat(np.arange(3), multinomial(p, 3))\n",
    "%timeit -n 10000 np.repeat(np.arange(3), multinomial_directgsl(p, 3))\n",
    "%timeit -n 10000 choice(p)"
   ]
  },
  {
   "cell_type": "markdown",
   "metadata": {},
   "source": [
    "The multinomial based method is (surprisingly?) an order of magnitude faster. This is probably fixed in the bleeding edge version of numpy (see https://github.com/numpy/numpy/issues/4188)."
   ]
  },
  {
   "cell_type": "code",
   "execution_count": 71,
   "metadata": {
    "collapsed": false
   },
   "outputs": [
    {
     "name": "stdout",
     "output_type": "stream",
     "text": [
      "100 loops, best of 3: 1.34 ms per loop\n",
      "100 loops, best of 3: 1.04 ms per loop\n",
      "100 loops, best of 3: 699 µs per loop\n",
      "100 loops, best of 3: 694 µs per loop\n",
      "100 loops, best of 3: 1.23 ms per loop\n"
     ]
    }
   ],
   "source": [
    "N = 10000\n",
    "p = np.random.rand(N)\n",
    "p /= np.sum(p)\n",
    "N_arange = np.arange(N)\n",
    "%timeit -n 100 prng.choice(N, size = N, p = p)\n",
    "%timeit -n 100 np.repeat(N_arange, prng.multinomial(N, p))\n",
    "%timeit -n 100 np.repeat(N_arange, multinomial(p, N))\n",
    "%timeit -n 100 np.repeat(N_arange, multinomial_directgsl(p, N))\n",
    "%timeit -n 100 choice(p)"
   ]
  },
  {
   "cell_type": "markdown",
   "metadata": {},
   "source": [
    "For large N the gsl multinomial function is significantly faster than using `np.random`"
   ]
  },
  {
   "cell_type": "markdown",
   "metadata": {},
   "source": [
    "## Seeding of gsl multinomial generator"
   ]
  },
  {
   "cell_type": "code",
   "execution_count": 51,
   "metadata": {
    "collapsed": false
   },
   "outputs": [
    {
     "name": "stdout",
     "output_type": "stream",
     "text": [
      "[0 2 1]\n",
      "[1 1 1]\n",
      "[2 1 0]\n",
      "[2 1 0]\n"
     ]
    }
   ],
   "source": [
    "p = np.array([0.5, 0.3, 0.2])\n",
    "print(multinomial_directgsl(p, 3))\n",
    "print(multinomial_directgsl(p, 3))\n",
    "\n",
    "seed_directgsl(10)\n",
    "print(multinomial_directgsl(p, 3))\n",
    "seed_directgsl(10)\n",
    "print(multinomial_directgsl(p, 3))"
   ]
  }
 ],
 "metadata": {
  "anaconda-cloud": {},
  "kernelspec": {
   "display_name": "Python [default]",
   "language": "python",
   "name": "python2"
  },
  "language_info": {
   "codemirror_mode": {
    "name": "ipython",
    "version": 2
   },
   "file_extension": ".py",
   "mimetype": "text/x-python",
   "name": "python",
   "nbconvert_exporter": "python",
   "pygments_lexer": "ipython2",
   "version": "2.7.12"
  },
  "toc": {
   "colors": {
    "hover_highlight": "#DAA520",
    "running_highlight": "#FF0000",
    "selected_highlight": "#FFD700"
   },
   "moveMenuLeft": true,
   "nav_menu": {
    "height": "133px",
    "width": "252px"
   },
   "navigate_menu": true,
   "number_sections": true,
   "sideBar": true,
   "threshold": 4,
   "toc_cell": false,
   "toc_section_display": "block",
   "toc_window_display": false
  }
 },
 "nbformat": 4,
 "nbformat_minor": 0
}
