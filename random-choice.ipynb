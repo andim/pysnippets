{
 "metadata": {
  "name": "",
  "signature": "sha256:472d31b45b26692f1499df5e665e8258fe5e4c2de884dcf798f8bdc729317950"
 },
 "nbformat": 3,
 "nbformat_minor": 0,
 "worksheets": [
  {
   "cells": [
    {
     "cell_type": "heading",
     "level": 1,
     "metadata": {},
     "source": [
      "A comparison of methods of random choice"
     ]
    },
    {
     "cell_type": "markdown",
     "metadata": {},
     "source": [
      "`random.choice` vs. a `random.multinomial` based implementation of the same weighted choice. Also compare with a GNU Scientific Library based implementation.\n",
      "\n",
      "Context: `random.choice` is only available in numpy >= 1.7, so I was trying to find a simple substitute for machines running older numpy versions."
     ]
    },
    {
     "cell_type": "code",
     "collapsed": false,
     "input": [
      "import numpy as np\n",
      "%load_ext cythonmagic"
     ],
     "language": "python",
     "metadata": {},
     "outputs": [],
     "prompt_number": 1
    },
    {
     "cell_type": "heading",
     "level": 2,
     "metadata": {},
     "source": [
      "GSL based multinomial called using CythonGSL wrapper"
     ]
    },
    {
     "cell_type": "code",
     "collapsed": false,
     "input": [
      "%%cython -l gsl\n",
      "\n",
      "cimport cython\n",
      "from cython_gsl cimport *\n",
      "\n",
      "import numpy as np\n",
      "from numpy cimport *\n",
      "\n",
      "cdef gsl_rng *r = gsl_rng_alloc(gsl_rng_mt19937)\n",
      "\n",
      "def multinomial(ndarray[double, ndim=1] p, unsigned int N):\n",
      "    cdef:\n",
      "       size_t K = p.shape[0]\n",
      "       ndarray[uint32_t, ndim=1] n = np.empty_like(p, dtype='uint32')\n",
      "    \n",
      "    # void gsl_ran_multinomial (const gsl_rng * r, size_t K, unsigned int N, const double p[], unsigned int n[])\n",
      "    gsl_ran_multinomial(r, K, N, <double*> p.data, <unsigned int *> n.data)\n",
      "    \n",
      "    return n"
     ],
     "language": "python",
     "metadata": {},
     "outputs": [],
     "prompt_number": 2
    },
    {
     "cell_type": "heading",
     "level": 2,
     "metadata": {},
     "source": [
      "GSL based multinomial called directly"
     ]
    },
    {
     "cell_type": "code",
     "collapsed": false,
     "input": [
      "%%cython -l gsl\n",
      "\n",
      "cimport cython\n",
      "\n",
      "import numpy as np\n",
      "from numpy cimport *\n",
      "\n",
      "cdef extern from \"gsl/gsl_rng.h\":\n",
      "    ctypedef struct gsl_rng_type\n",
      "    ctypedef struct gsl_rng\n",
      "    \n",
      "    cdef gsl_rng_type *gsl_rng_mt19937\n",
      "    \n",
      "    gsl_rng *gsl_rng_alloc ( gsl_rng_type * T) nogil\n",
      "\n",
      "cdef extern from \"gsl/gsl_randist.h\":\n",
      "    void gsl_ran_multinomial ( gsl_rng * r,  size_t K,\n",
      "                               unsigned int N,  double p[],\n",
      "                               unsigned int n[] ) nogil\n",
      "\n",
      "cdef gsl_rng *r = gsl_rng_alloc(gsl_rng_mt19937)\n",
      "\n",
      "def multinomial_directgsl(ndarray[double, ndim=1] p, unsigned int N):\n",
      "    cdef:\n",
      "       size_t K = p.shape[0]\n",
      "       ndarray[uint32_t, ndim=1] n = np.empty_like(p, dtype='uint32')\n",
      "    \n",
      "    # void gsl_ran_multinomial (const gsl_rng * r, size_t K, unsigned int N, const double p[], unsigned int n[])\n",
      "    gsl_ran_multinomial(r, K, N, <double*> p.data, <unsigned int *> n.data)\n",
      "    \n",
      "    return n"
     ],
     "language": "python",
     "metadata": {},
     "outputs": [],
     "prompt_number": 3
    },
    {
     "cell_type": "heading",
     "level": 2,
     "metadata": {},
     "source": [
      "Test equivalence of results"
     ]
    },
    {
     "cell_type": "code",
     "collapsed": false,
     "input": [
      "p = np.array([0.5, 0.3, 0.2])\n",
      "prng = np.random.RandomState(3)\n",
      "print prng.choice(3, size = 3, p = p)\n",
      "print np.repeat(np.arange(3), prng.multinomial(3, p))\n",
      "print np.repeat(np.arange(3), multinomial(p, 3))\n",
      "print np.repeat(np.arange(3), multinomial_directgsl(p, 3))"
     ],
     "language": "python",
     "metadata": {},
     "outputs": [
      {
       "output_type": "stream",
       "stream": "stdout",
       "text": [
        "[1 1 0]\n",
        "[0 0 2]\n",
        "[0 0 0]\n",
        "[0 0 0]\n"
       ]
      }
     ],
     "prompt_number": 4
    },
    {
     "cell_type": "code",
     "collapsed": false,
     "input": [
      "N = 100000\n",
      "print np.bincount(np.random.choice(3, size = 3 * N, p = p))/(3.0 * N)\n",
      "print np.bincount(np.asarray([np.repeat(np.arange(3), np.random.multinomial(3, p)) for i in range(N)]).flatten())/(3.0 *N)\n",
      "print np.bincount(np.asarray([np.repeat(np.arange(3), multinomial(p, 3)) for i in range(N)]).flatten())/(3.0 *N)\n",
      "print np.bincount(np.asarray([np.repeat(np.arange(3), multinomial_directgsl(p, 3)) for i in range(N)]).flatten())/(3.0 *N)"
     ],
     "language": "python",
     "metadata": {},
     "outputs": [
      {
       "output_type": "stream",
       "stream": "stdout",
       "text": [
        "[ 0.50022  0.3003   0.19948]\n",
        "[ 0.50059667  0.30053333  0.19887   ]"
       ]
      },
      {
       "output_type": "stream",
       "stream": "stdout",
       "text": [
        "\n",
        "[ 0.50046333  0.29979667  0.19974   ]"
       ]
      },
      {
       "output_type": "stream",
       "stream": "stdout",
       "text": [
        "\n",
        "[ 0.50046333  0.29979667  0.19974   ]"
       ]
      },
      {
       "output_type": "stream",
       "stream": "stdout",
       "text": [
        "\n"
       ]
      }
     ],
     "prompt_number": 5
    },
    {
     "cell_type": "markdown",
     "metadata": {},
     "source": [
      "Conclusion: All methods are statistically equivalent. They do not give the same results for the same random seed, though."
     ]
    },
    {
     "cell_type": "heading",
     "level": 2,
     "metadata": {},
     "source": [
      "Time execution times"
     ]
    },
    {
     "cell_type": "code",
     "collapsed": false,
     "input": [
      "p = np.array([0.5, 0.3, 0.2])\n",
      "%timeit -n 10000 prng.choice(3, size = 3, p = p)\n",
      "%timeit -n 10000 np.repeat(np.arange(3), prng.multinomial(3, p))\n",
      "%timeit -n 10000 np.repeat(np.arange(3), multinomial(p, 3))\n",
      "%timeit -n 10000 np.repeat(np.arange(3), multinomial_directgsl(p, 3))"
     ],
     "language": "python",
     "metadata": {},
     "outputs": [
      {
       "output_type": "stream",
       "stream": "stdout",
       "text": [
        "10000 loops, best of 3: 54.5 \u00b5s per loop\n",
        "10000 loops, best of 3: 1.9 \u00b5s per loop"
       ]
      },
      {
       "output_type": "stream",
       "stream": "stdout",
       "text": [
        "\n",
        "10000 loops, best of 3: 2.93 \u00b5s per loop"
       ]
      },
      {
       "output_type": "stream",
       "stream": "stdout",
       "text": [
        "\n",
        "10000 loops, best of 3: 2.97 \u00b5s per loop"
       ]
      },
      {
       "output_type": "stream",
       "stream": "stdout",
       "text": [
        "\n"
       ]
      }
     ],
     "prompt_number": 6
    },
    {
     "cell_type": "markdown",
     "metadata": {},
     "source": [
      "The multinomial based method is (surprisingly?) an order of magnitude faster. This is probably fixed in the bleeding edge version of numpy (see https://github.com/numpy/numpy/issues/4188)."
     ]
    },
    {
     "cell_type": "code",
     "collapsed": false,
     "input": [
      "N = 1000\n",
      "p = np.random.rand(N)\n",
      "p /= np.sum(p)\n",
      "N_arange = np.arange(N)\n",
      "%timeit -n 1000 prng.choice(N, size = N, p = p)\n",
      "%timeit -n 1000 np.repeat(N_arange, prng.multinomial(N, p))\n",
      "%timeit -n 1000 np.repeat(N_arange, multinomial(p, N))\n",
      "%timeit -n 1000 np.repeat(N_arange, multinomial_directgsl(p, N))"
     ],
     "language": "python",
     "metadata": {},
     "outputs": [
      {
       "output_type": "stream",
       "stream": "stdout",
       "text": [
        "1000 loops, best of 3: 158 \u00b5s per loop\n",
        "1000 loops, best of 3: 115 \u00b5s per loop"
       ]
      },
      {
       "output_type": "stream",
       "stream": "stdout",
       "text": [
        "\n",
        "1000 loops, best of 3: 73.6 \u00b5s per loop"
       ]
      },
      {
       "output_type": "stream",
       "stream": "stdout",
       "text": [
        "\n",
        "1000 loops, best of 3: 74.3 \u00b5s per loop"
       ]
      },
      {
       "output_type": "stream",
       "stream": "stdout",
       "text": [
        "\n"
       ]
      }
     ],
     "prompt_number": 7
    },
    {
     "cell_type": "markdown",
     "metadata": {},
     "source": [
      "For large N the gsl multinomial function is significantly faster than using `np.random`"
     ]
    }
   ],
   "metadata": {}
  }
 ]
}