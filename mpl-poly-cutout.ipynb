{
 "metadata": {
  "name": "",
  "signature": "sha256:15235f8d0d7cd2c77e585fd17e94ad7e91b50c3f97c7f48b5dc6dd7984710f64"
 },
 "nbformat": 3,
 "nbformat_minor": 0,
 "worksheets": [
  {
   "cells": [
    {
     "cell_type": "code",
     "collapsed": false,
     "input": [
      "import numpy as np\n",
      "import shapely.geometry\n",
      "import shapely.geometry.polygon\n",
      "import shapely.geometry.multilinestring\n",
      "\n",
      "import matplotlib.pyplot as plt\n",
      "import matplotlib.figure\n",
      "from matplotlib import patches, transforms, collections\n",
      "from matplotlib.path import Path\n",
      "%matplotlib inline\n",
      "\n",
      "%load_ext autoreload\n",
      "%autoreload 2"
     ],
     "language": "python",
     "metadata": {},
     "outputs": [
      {
       "output_type": "stream",
       "stream": "stdout",
       "text": [
        "The autoreload extension is already loaded. To reload it, use:\n",
        "  %reload_ext autoreload\n"
       ]
      }
     ],
     "prompt_number": 6
    },
    {
     "cell_type": "code",
     "collapsed": false,
     "input": [
      "def mpl_to_shapely(mpl, **kwargs):\n",
      "    if isinstance(mpl, transforms.Bbox):\n",
      "        return shapely.geometry.box(mpl.x0, mpl.y0, mpl.x0+mpl.width, mpl.y0+mpl.height)\n",
      "\n",
      "def shapely_to_mpl(shape, **kwargs):\n",
      "    \"\"\"Convert shapely to mpl Polygon.\n",
      "        \n",
      "        If PolygonCollection try instead to convert largest polygon.\n",
      "    \"\"\"\n",
      "    if isinstance(shape, shapely.geometry.polygon.Polygon):\n",
      "        # return mpl Polygon if possible\n",
      "        if isinstance(shape.boundary, shapely.geometry.linestring.LineString):\n",
      "            return patches.Polygon(zip(*shape.exterior.xy),\n",
      "                                      **kwargs)\n",
      "        elif isinstance(shape.boundary, shapely.geometry.multilinestring.MultiLineString):\n",
      "            verts = []\n",
      "            codes = []\n",
      "            for geom in shape.boundary.geoms:\n",
      "                nverts = zip(*geom.xy)\n",
      "                ncodes = [Path.MOVETO]\n",
      "                ncodes.extend([Path.LINETO for i in range(len(nverts)-2)])\n",
      "                ncodes.append(Path.CLOSEPOLY)\n",
      "                verts.extend(nverts) \n",
      "                codes.extend(ncodes)\n",
      "            path = Path(verts, codes)\n",
      "            return patches.PathPatch(path, **kwargs)\n",
      "    elif isinstance(shape, shapely.geometry.multipolygon.MultiPolygon):\n",
      "        # MultiPolygon instead of Polygon --> convert largest polygon in collection\n",
      "        polygon = sorted(shape.geoms, key=lambda x: x.area)[-1]\n",
      "        return patches.Polygon(zip(*polygon.exterior.xy),\n",
      "                                      **kwargs)\n",
      "    elif isinstance(shape, shapely.geometry.multilinestring.MultiLineString):\n",
      "        lines = [zip(*line.xy) for line in shape.geoms]\n",
      "        return collections.LineCollection(lines,\n",
      "                                                     **kwargs)"
     ],
     "language": "python",
     "metadata": {},
     "outputs": [],
     "prompt_number": 7
    },
    {
     "cell_type": "code",
     "collapsed": false,
     "input": [
      "fig, ax = plt.subplots()\n",
      "imdata = np.random.randn(10, 10)\n",
      "ax.imshow(imdata, extent=(0, 1, 0, 1), aspect='auto')\n",
      "box = shapely.geometry.box(0.3, 0.3, 0.7, 0.7)\n",
      "text = ax.text(0.5, 0.5, 'Text', fontsize='xx-large', fontweight='bold', color='r', ha='center', va='center')\n",
      "renderer = ax.figure.canvas.get_renderer()\n",
      "bbox = text.get_window_extent(renderer)\n",
      "bbox_points = bbox.transformed(ax.transAxes.inverted()).get_points()\n",
      "pad = 0.01\n",
      "bbox_points[0] -= pad\n",
      "bbox_points[1] += pad\n",
      "bbox_points = ax.transData.inverted().transform(ax.transAxes.transform(bbox_points))\n",
      "bbox_shapely = shapely.geometry.box(*bbox_points.flatten())\n",
      "patch = shapely_to_mpl(box-bbox_shapely, edgecolor='r', facecolor='none', lw=1.0, alpha=1.0, hatch=r'//')\n",
      "ax.add_patch(patch)\n",
      "print patch.get_path()"
     ],
     "language": "python",
     "metadata": {},
     "outputs": [
      {
       "output_type": "stream",
       "stream": "stdout",
       "text": [
        "Path(array([[ 0.7       ,  0.3       ],\n",
        "       [ 0.3       ,  0.3       ],\n",
        "       [ 0.3       ,  0.7       ],\n",
        "       [ 0.7       ,  0.7       ],\n",
        "       [ 0.7       ,  0.3       ],\n",
        "       [ 0.5741381 ,  0.45169355],\n",
        "       [ 0.5741381 ,  0.54830645],\n",
        "       [ 0.4258619 ,  0.54830645],\n",
        "       [ 0.4258619 ,  0.45169355],\n",
        "       [ 0.5741381 ,  0.45169355]]), array([ 1,  2,  2,  2, 79,  1,  2,  2,  2, 79], dtype=uint8))\n"
       ]
      },
      {
       "metadata": {},
       "output_type": "display_data",
       "png": "[encoded data removed]",
       "text": [
        "<matplotlib.figure.Figure at 0x7f2be481b9d0>"
       ]
      }
     ],
     "prompt_number": 39
    },
    {
     "cell_type": "code",
     "collapsed": false,
     "input": [
      "from matplotlib.path import Path\n",
      "fig, ax = plt.subplots()\n",
      "imdata = np.random.randn(10, 10)\n",
      "ax.imshow(imdata, extent=(0, 1, 0, 1), aspect='auto')\n",
      "text = ax.text(0.5, 0.5, 'Text', fontsize='xx-large', fontweight='bold', color='r', ha='center', va='center')\n",
      "renderer = fig.canvas.get_renderer()\n",
      "bbox = text.get_window_extent(renderer).transformed(ax.transData.inverted())\n",
      "bboxrect = patches.Rectangle((bbox.x0, bbox.y0), bbox.width, bbox.height, alpha=0.0)\n",
      "bbpath = bboxrect.get_path().transformed(bboxrect.get_patch_transform())\n",
      "patch = patches.Rectangle((0.3, 0.3), 0.4, 0.4)\n",
      "path = patch.get_path().transformed(patch.get_patch_transform())\n",
      "path = Path.make_compound_path(path, bbpath)\n",
      "patch = matplotlib.patches.PathPatch(path, edgecolor='r', facecolor='none', lw=1.0, alpha=1.0, hatch=r'//')\n",
      "ax.add_patch(patch)\n",
      "print patch.get_path()"
     ],
     "language": "python",
     "metadata": {},
     "outputs": [
      {
       "output_type": "stream",
       "stream": "stdout",
       "text": [
        "Path(array([[ 0.3       ,  0.3       ],\n",
        "       [ 0.7       ,  0.3       ],\n",
        "       [ 0.7       ,  0.7       ],\n",
        "       [ 0.3       ,  0.7       ],\n",
        "       [ 0.3       ,  0.3       ],\n",
        "       [ 0.4358619 ,  0.46169355],\n",
        "       [ 0.5641381 ,  0.46169355],\n",
        "       [ 0.5641381 ,  0.53830645],\n",
        "       [ 0.4358619 ,  0.53830645],\n",
        "       [ 0.4358619 ,  0.46169355]]), array([ 1,  2,  2,  2, 79,  1,  2,  2,  2, 79], dtype=uint8))\n"
       ]
      },
      {
       "metadata": {},
       "output_type": "display_data",
       "png": "[encoded data removed]",
       "text": [
        "<matplotlib.figure.Figure at 0x7f2bf768b410>"
       ]
      }
     ],
     "prompt_number": 43
    },
    {
     "cell_type": "code",
     "collapsed": false,
     "input": [
      "import numpy as np\n",
      "import matplotlib.pyplot as plt\n",
      "from matplotlib.patches import Circle, Rectangle\n",
      "from matplotlib.transforms import Bbox\n",
      "\n",
      "# This is in PIXELS\n",
      "# first tuple : coords of box' bottom-left corner, from the figure's bottom-left corner\n",
      "# second tuple : coords of box' top-right corner, from the figure's bottom-left corner\n",
      "clip_box = Bbox(((0,0),(200,200)))\n",
      "circle = Circle((0,0), 1, clip_on=True)\n",
      "\n",
      "plt.axis('equal')\n",
      "plt.axis((-2,2,-2,2))\n",
      "plt.axes().add_artist(circle)\n",
      "ax = plt.gca()\n",
      "text = plt.text(0, 0, 'hi')\n",
      "renderer = fig.canvas.get_renderer()\n",
      "bbox = text.get_window_extent(renderer).transformed(ax.transData.inverted())\n",
      "print bbox\n",
      "rect = Rectangle([bbox.x0, bbox.y0], bbox.width, bbox.height, color = [0,0,0], fill = False)\n",
      "\n",
      "# You have to call this after add_artist()\n",
      "circle.set_clip_box(bbox.transformed(ax.transData))\n",
      "#circle.set_clip_path(rect)"
     ],
     "language": "python",
     "metadata": {},
     "outputs": [
      {
       "output_type": "stream",
       "stream": "stdout",
       "text": [
        "Bbox(x0=4.4408920985e-16, y0=-0.0322580645161, x1=0.110215053763, y1=0.129032258065)\n"
       ]
      },
      {
       "metadata": {},
       "output_type": "display_data",
       "png": "[encoded data removed]",
       "text": [
        "<matplotlib.figure.Figure at 0x7f2be562c690>"
       ]
      }
     ],
     "prompt_number": 20
    },
    {
     "cell_type": "code",
     "collapsed": false,
     "input": [],
     "language": "python",
     "metadata": {},
     "outputs": []
    }
   ],
   "metadata": {}
  }
 ]
}