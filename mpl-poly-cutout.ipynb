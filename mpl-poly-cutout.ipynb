{
 "cells": [
  {
   "cell_type": "markdown",
   "metadata": {},
   "source": [
    "# Clip part of patch that is behind text"
   ]
  },
  {
   "cell_type": "code",
   "execution_count": 1,
   "metadata": {
    "collapsed": false
   },
   "outputs": [],
   "source": [
    "import numpy as np\n",
    "import shapely.geometry\n",
    "import shapely.geometry.polygon\n",
    "import shapely.geometry.multilinestring\n",
    "\n",
    "import matplotlib.pyplot as plt\n",
    "from matplotlib import patches, transforms, collections, cm\n",
    "from matplotlib.path import Path\n",
    "%matplotlib inline\n",
    "\n",
    "%load_ext autoreload\n",
    "%autoreload 2"
   ]
  },
  {
   "cell_type": "code",
   "execution_count": 2,
   "metadata": {
    "collapsed": false
   },
   "outputs": [],
   "source": [
    "def mpl_to_shapely(mpl, **kwargs):\n",
    "    if isinstance(mpl, transforms.Bbox):\n",
    "        return shapely.geometry.box(mpl.x0, mpl.y0, mpl.x0+mpl.width, mpl.y0+mpl.height)\n",
    "\n",
    "def shapely_to_mpl(shape, **kwargs):\n",
    "    \"\"\"Convert shapely to mpl Polygon.\n",
    "        \n",
    "        If PolygonCollection try instead to convert largest polygon.\n",
    "    \"\"\"\n",
    "    if isinstance(shape, shapely.geometry.polygon.Polygon):\n",
    "        # return mpl Polygon if possible\n",
    "        if isinstance(shape.boundary, shapely.geometry.linestring.LineString):\n",
    "            return patches.Polygon(zip(*shape.exterior.xy),\n",
    "                                      **kwargs)\n",
    "        elif isinstance(shape.boundary, shapely.geometry.multilinestring.MultiLineString):\n",
    "            verts = []\n",
    "            codes = []\n",
    "            for geom in shape.boundary.geoms:\n",
    "                nverts = zip(*geom.xy)\n",
    "                ncodes = [Path.MOVETO]\n",
    "                ncodes.extend([Path.LINETO for i in range(len(nverts)-2)])\n",
    "                ncodes.append(Path.CLOSEPOLY)\n",
    "                verts.extend(nverts) \n",
    "                codes.extend(ncodes)\n",
    "            path = Path(verts, codes)\n",
    "            return patches.PathPatch(path, **kwargs)\n",
    "    elif isinstance(shape, shapely.geometry.multipolygon.MultiPolygon):\n",
    "        # MultiPolygon instead of Polygon --> convert largest polygon in collection\n",
    "        polygon = sorted(shape.geoms, key=lambda x: x.area)[-1]\n",
    "        return patches.Polygon(zip(*polygon.exterior.xy),\n",
    "                                      **kwargs)\n",
    "    elif isinstance(shape, shapely.geometry.multilinestring.MultiLineString):\n",
    "        lines = [zip(*line.xy) for line in shape.geoms]\n",
    "        return collections.LineCollection(lines,\n",
    "                                                     **kwargs)"
   ]
  },
  {
   "cell_type": "code",
   "execution_count": 3,
   "metadata": {
    "collapsed": false
   },
   "outputs": [
    {
     "name": "stdout",
     "output_type": "stream",
     "text": [
      "Path(array([[ 0.7       ,  0.3       ],\n",
      "       [ 0.3       ,  0.3       ],\n",
      "       [ 0.3       ,  0.7       ],\n",
      "       [ 0.7       ,  0.7       ],\n",
      "       [ 0.7       ,  0.3       ],\n",
      "       [ 0.5741381 ,  0.45169355],\n",
      "       [ 0.5741381 ,  0.54830645],\n",
      "       [ 0.4258619 ,  0.54830645],\n",
      "       [ 0.4258619 ,  0.45169355],\n",
      "       [ 0.5741381 ,  0.45169355]]), array([ 1,  2,  2,  2, 79,  1,  2,  2,  2, 79], dtype=uint8))\n"
     ]
    },
    {
     "data": {
      "text/plain": [
       "([], <a list of 0 Text yticklabel objects>)"
      ]
     },
     "execution_count": 3,
     "metadata": {},
     "output_type": "execute_result"
    },
    {
     "data": {
      "image/png": "[encoded data removed]",
      "text/plain": [
       "<matplotlib.figure.Figure at 0x7f796e066b10>"
      ]
     },
     "metadata": {},
     "output_type": "display_data"
    }
   ],
   "source": [
    "fig, ax = plt.subplots()\n",
    "imdata = np.random.randn(10, 10)\n",
    "ax.imshow(imdata, extent=(0, 1, 0, 1), aspect='auto', cmap=cm.coolwarm)\n",
    "box = shapely.geometry.box(0.3, 0.3, 0.7, 0.7)\n",
    "text = ax.text(0.5, 0.5, 'Text', fontsize='xx-large', fontweight='bold', color='k', ha='center', va='center')\n",
    "renderer = ax.figure.canvas.get_renderer()\n",
    "bbox = text.get_window_extent(renderer)\n",
    "bbox_points = bbox.transformed(ax.transAxes.inverted()).get_points()\n",
    "pad = 0.01\n",
    "bbox_points[0] -= pad\n",
    "bbox_points[1] += pad\n",
    "bbox_points = ax.transData.inverted().transform(ax.transAxes.transform(bbox_points))\n",
    "bbox_shapely = shapely.geometry.box(*bbox_points.flatten())\n",
    "patch = shapely_to_mpl(box-bbox_shapely, edgecolor='k', facecolor='none', lw=1.0, alpha=1.0, hatch=r'//')\n",
    "ax.add_patch(patch)\n",
    "print patch.get_path()\n",
    "plt.xticks([])\n",
    "plt.yticks([])"
   ]
  },
  {
   "cell_type": "code",
   "execution_count": 4,
   "metadata": {
    "collapsed": false
   },
   "outputs": [
    {
     "data": {
      "text/plain": [
       "array([[ 222.140625,  154.5     ],\n",
       "       [ 269.859375,  173.5     ]])"
      ]
     },
     "execution_count": 4,
     "metadata": {},
     "output_type": "execute_result"
    }
   ],
   "source": [
    "bbox.get_points()"
   ]
  },
  {
   "cell_type": "code",
   "execution_count": 5,
   "metadata": {
    "collapsed": false
   },
   "outputs": [
    {
     "name": "stdout",
     "output_type": "stream",
     "text": [
      "Path(array([[ 0.3       ,  0.3       ],\n",
      "       [ 0.7       ,  0.3       ],\n",
      "       [ 0.7       ,  0.7       ],\n",
      "       [ 0.3       ,  0.7       ],\n",
      "       [ 0.3       ,  0.3       ],\n",
      "       [ 0.4358619 ,  0.46169355],\n",
      "       [ 0.5641381 ,  0.46169355],\n",
      "       [ 0.5641381 ,  0.53830645],\n",
      "       [ 0.4358619 ,  0.53830645],\n",
      "       [ 0.4358619 ,  0.46169355]]), array([ 1,  2,  2,  2, 79,  1,  2,  2,  2, 79], dtype=uint8))\n"
     ]
    },
    {
     "data": {
      "image/png": "[encoded data removed]",
      "text/plain": [
       "<matplotlib.figure.Figure at 0x7f799086b950>"
      ]
     },
     "metadata": {},
     "output_type": "display_data"
    }
   ],
   "source": [
    "import numpy as np\n",
    "import matplotlib.pyplot as plt\n",
    "from matplotlib import patches, cm\n",
    "from matplotlib.path import Path\n",
    "fig, ax = plt.subplots()\n",
    "imdata = np.random.randn(10, 10)\n",
    "ax.imshow(imdata, extent=(0, 1, 0, 1), aspect='auto', cmap=cm.coolwarm)\n",
    "text = ax.text(0.5, 0.5, 'Text', fontsize='xx-large', fontweight='bold',\n",
    "               color='k', ha='center', va='center')\n",
    "renderer = fig.canvas.get_renderer()\n",
    "bbox = text.get_window_extent(renderer).transformed(ax.transData.inverted())\n",
    "bboxrect = patches.Rectangle((bbox.x0, bbox.y0), bbox.width, bbox.height)\n",
    "bbpath = bboxrect.get_path().transformed(bboxrect.get_patch_transform())\n",
    "patch = patches.Rectangle((0.3, 0.3), 0.4, 0.4)\n",
    "path = patch.get_path().transformed(patch.get_patch_transform())\n",
    "path = Path.make_compound_path(path, bbpath)\n",
    "patch = patches.PathPatch(path, facecolor='none', hatch=r'//')\n",
    "ax.add_patch(patch)\n",
    "print patch.get_path()"
   ]
  },
  {
   "cell_type": "code",
   "execution_count": 6,
   "metadata": {
    "collapsed": false
   },
   "outputs": [
    {
     "name": "stdout",
     "output_type": "stream",
     "text": [
      "Bbox(x0=4.4408920985e-16, y0=-0.0322580645161, x1=0.110215053763, y1=0.129032258065)\n"
     ]
    },
    {
     "data": {
      "image/png": "[encoded data removed]",
      "text/plain": [
       "<matplotlib.figure.Figure at 0x7f799086bed0>"
      ]
     },
     "metadata": {},
     "output_type": "display_data"
    }
   ],
   "source": [
    "import numpy as np\n",
    "import matplotlib.pyplot as plt\n",
    "from matplotlib.patches import Circle, Rectangle\n",
    "from matplotlib.transforms import Bbox\n",
    "\n",
    "# This is in PIXELS\n",
    "# first tuple : coords of box' bottom-left corner, from the figure's bottom-left corner\n",
    "# second tuple : coords of box' top-right corner, from the figure's bottom-left corner\n",
    "clip_box = Bbox(((0,0),(200,200)))\n",
    "circle = Circle((0,0), 1, clip_on=True)\n",
    "\n",
    "plt.axis('equal')\n",
    "plt.axis((-2,2,-2,2))\n",
    "plt.axes().add_artist(circle)\n",
    "ax = plt.gca()\n",
    "text = plt.text(0, 0, 'hi')\n",
    "renderer = fig.canvas.get_renderer()\n",
    "bbox = text.get_window_extent(renderer).transformed(ax.transData.inverted())\n",
    "print bbox\n",
    "rect = Rectangle([bbox.x0, bbox.y0], bbox.width, bbox.height, color = [0,0,0], fill = False)\n",
    "\n",
    "# You have to call this after add_artist()\n",
    "circle.set_clip_box(bbox.transformed(ax.transData))\n",
    "#circle.set_clip_path(rect)"
   ]
  },
  {
   "cell_type": "code",
   "execution_count": null,
   "metadata": {
    "collapsed": false
   },
   "outputs": [],
   "source": []
  }
 ],
 "metadata": {
  "kernelspec": {
   "display_name": "Python 2",
   "language": "python",
   "name": "python2"
  },
  "language_info": {
   "codemirror_mode": {
    "name": "ipython",
    "version": 2
   },
   "file_extension": ".py",
   "mimetype": "text/x-python",
   "name": "python",
   "nbconvert_exporter": "python",
   "pygments_lexer": "ipython2",
   "version": "2.7.10"
  }
 },
 "nbformat": 4,
 "nbformat_minor": 0
}
