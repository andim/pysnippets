{
 "metadata": {
  "name": "",
  "signature": "sha256:72546b7da361b3df41d94972fa802a4916905b005ac5533188027d7bbbac3a30"
 },
 "nbformat": 3,
 "nbformat_minor": 0,
 "worksheets": [
  {
   "cells": [
    {
     "cell_type": "heading",
     "level": 1,
     "metadata": {},
     "source": [
      "What is the fastest way to get a new array given a list of indices?"
     ]
    },
    {
     "cell_type": "markdown",
     "metadata": {},
     "source": [
      "See e.g. http://wesmckinney.com/blog/numpy-indexing-peculiarities/ that shows that `np.take(a, indices)` can be much faster than `a[indices]`"
     ]
    },
    {
     "cell_type": "code",
     "collapsed": false,
     "input": [
      "import numpy as np"
     ],
     "language": "python",
     "metadata": {},
     "outputs": [],
     "prompt_number": 1
    },
    {
     "cell_type": "code",
     "collapsed": false,
     "input": [
      "a = np.arange(10)\n",
      "indices = np.array([0, 0, 0, 1, 2, 2, 3, 4, 5, 9])\n",
      "print a[indices]\n",
      "print a.take(indices)\n",
      "%timeit a[indices]\n",
      "%timeit a.take(indices)"
     ],
     "language": "python",
     "metadata": {},
     "outputs": [
      {
       "output_type": "stream",
       "stream": "stdout",
       "text": [
        "[0 0 0 1 2 2 3 4 5 9]\n",
        "[0 0 0 1 2 2 3 4 5 9]\n",
        "1000000 loops, best of 3: 703 ns per loop"
       ]
      },
      {
       "output_type": "stream",
       "stream": "stdout",
       "text": [
        "\n",
        "1000000 loops, best of 3: 450 ns per loop"
       ]
      },
      {
       "output_type": "stream",
       "stream": "stdout",
       "text": [
        "\n"
       ]
      }
     ],
     "prompt_number": 2
    },
    {
     "cell_type": "code",
     "collapsed": false,
     "input": [
      "a = np.arange(10)\n",
      "a = a[:, np.newaxis]\n",
      "indices = np.array([0, 0, 0, 1, 2, 2, 3, 4, 5, 9])\n",
      "print a[indices]\n",
      "print a.take(indices, axis=0)\n",
      "%timeit a[indices]\n",
      "%timeit a.take(indices, axis=0)"
     ],
     "language": "python",
     "metadata": {},
     "outputs": [
      {
       "output_type": "stream",
       "stream": "stdout",
       "text": [
        "[[0]\n",
        " [0]\n",
        " [0]\n",
        " [1]\n",
        " [2]\n",
        " [2]\n",
        " [3]\n",
        " [4]\n",
        " [5]\n",
        " [9]]\n",
        "[[0]\n",
        " [0]\n",
        " [0]\n",
        " [1]\n",
        " [2]\n",
        " [2]\n",
        " [3]\n",
        " [4]\n",
        " [5]\n",
        " [9]]\n",
        "1000000 loops, best of 3: 1.62 \u00b5s per loop"
       ]
      },
      {
       "output_type": "stream",
       "stream": "stdout",
       "text": [
        "\n",
        "1000000 loops, best of 3: 936 ns per loop"
       ]
      },
      {
       "output_type": "stream",
       "stream": "stdout",
       "text": [
        "\n"
       ]
      }
     ],
     "prompt_number": 3
    },
    {
     "cell_type": "markdown",
     "metadata": {},
     "source": [
      "`np.take` is really faster, even though in this context by not as much as otherwise."
     ]
    },
    {
     "cell_type": "code",
     "collapsed": false,
     "input": [
      "a = np.arange(10, dtype = float)\n",
      "a = a[:, np.newaxis]\n",
      "indices = np.array([0, 0, 0, 1, 2, 2, 3, 4, 5, 9])\n",
      "out = np.empty((10, 1), dtype = float)\n",
      "%timeit a.take(indices, axis=0)\n",
      "%timeit a.take(indices, out=out, axis=0, mode='clip')"
     ],
     "language": "python",
     "metadata": {},
     "outputs": [
      {
       "output_type": "stream",
       "stream": "stdout",
       "text": [
        "1000000 loops, best of 3: 945 ns per loop\n",
        "1000000 loops, best of 3: 911 ns per loop"
       ]
      },
      {
       "output_type": "stream",
       "stream": "stdout",
       "text": [
        "\n"
       ]
      }
     ],
     "prompt_number": 4
    },
    {
     "cell_type": "markdown",
     "metadata": {},
     "source": [
      "By preallocating the output array we can save a slight overhead."
     ]
    }
   ],
   "metadata": {}
  }
 ]
}