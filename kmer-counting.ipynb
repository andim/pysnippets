{
 "cells": [
  {
   "cell_type": "markdown",
   "metadata": {},
   "source": [
    "# Count all possible kmers in a string"
   ]
  },
  {
   "cell_type": "code",
   "execution_count": 1,
   "metadata": {},
   "outputs": [],
   "source": [
    "from collections import defaultdict\n",
    "%load_ext cython"
   ]
  },
  {
   "cell_type": "code",
   "execution_count": 2,
   "metadata": {},
   "outputs": [],
   "source": [
    "def count_kmers(string, k, counter=None, gap=0):\n",
    "    \"\"\"\n",
    "    Count occurrence of kmers in a given string.\n",
    "    \"\"\"\n",
    "    if counter is None:\n",
    "        counter = defaultdict(int)\n",
    "    for i in range(len(string)-k-gap+1):\n",
    "        if gap:\n",
    "            counter[string[i]+string[i+gap+1:i+k+gap]] += 1\n",
    "        else:\n",
    "            counter[string[i:i+k]] += 1\n",
    "    return counter"
   ]
  },
  {
   "cell_type": "code",
   "execution_count": 3,
   "metadata": {},
   "outputs": [
    {
     "name": "stdout",
     "output_type": "stream",
     "text": [
      "27 µs ± 80.5 ns per loop (mean ± std. dev. of 7 runs, 10000 loops each)\n"
     ]
    }
   ],
   "source": [
    "%%timeit\n",
    "count_kmers('ABCDAABDPGHKLRJKJIHJIJIJIOJIJIOJIOJIOJIOJIOIOPLNVRRRRPPYUIHJSBNDJKHASFDUIHDJIOSAJKDFHSUAFYDIUASD', 2, gap=1)"
   ]
  },
  {
   "cell_type": "code",
   "execution_count": 4,
   "metadata": {},
   "outputs": [],
   "source": [
    "%%cython\n",
    "from collections import defaultdict\n",
    "def count_kmers_cython(str string, int k, counter=None, int gap=0):\n",
    "    \"\"\"\n",
    "    Count occurrence of kmers in a given string.\n",
    "    \"\"\"\n",
    "    if counter is None:\n",
    "        counter = defaultdict(int)\n",
    "    cdef int i\n",
    "    cdef int N = len(string)\n",
    "    for i in range(N-k-gap+1):\n",
    "        if gap:\n",
    "            counter[string[i]+string[i+gap+1:i+k+gap]] += 1\n",
    "        else:\n",
    "            counter[string[i:i+k]] += 1\n",
    "    return counter"
   ]
  },
  {
   "cell_type": "code",
   "execution_count": 5,
   "metadata": {},
   "outputs": [
    {
     "name": "stdout",
     "output_type": "stream",
     "text": [
      "15.1 µs ± 219 ns per loop (mean ± std. dev. of 7 runs, 100000 loops each)\n"
     ]
    }
   ],
   "source": [
    "%%timeit\n",
    "count_kmers_cython('ABCDAABDPGHKLRJKJIHJIJIJIOJIJIOJIOJIOJIOJIOIOPLNVRRRRPPYUIHJSBNDJKHASFDUIHDJIOSAJKDFHSUAFYDIUASD', 2, gap=1)"
   ]
  },
  {
   "cell_type": "code",
   "execution_count": null,
   "metadata": {},
   "outputs": [],
   "source": []
  }
 ],
 "metadata": {
  "kernelspec": {
   "display_name": "Python 3",
   "language": "python",
   "name": "python3"
  },
  "language_info": {
   "codemirror_mode": {
    "name": "ipython",
    "version": 3
   },
   "file_extension": ".py",
   "mimetype": "text/x-python",
   "name": "python",
   "nbconvert_exporter": "python",
   "pygments_lexer": "ipython3",
   "version": "3.6.8"
  }
 },
 "nbformat": 4,
 "nbformat_minor": 2
}
