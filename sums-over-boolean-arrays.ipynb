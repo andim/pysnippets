{
 "metadata": {
  "name": "",
  "signature": "sha256:f7dfdcc1f49e14bfbbcd344d299ce9cc7202bb26319cc41d63edabd3d16b6f73"
 },
 "nbformat": 3,
 "nbformat_minor": 0,
 "worksheets": [
  {
   "cells": [
    {
     "cell_type": "heading",
     "level": 1,
     "metadata": {},
     "source": [
      "Calculate sum over boolean arrays"
     ]
    },
    {
     "cell_type": "code",
     "collapsed": false,
     "input": [
      "import numpy as np\n",
      "%load_ext cythonmagic"
     ],
     "language": "python",
     "metadata": {},
     "outputs": [],
     "prompt_number": 1
    },
    {
     "cell_type": "code",
     "collapsed": false,
     "input": [
      "def direct(phen, env):\n",
      "    protected = np.sum(phen, axis = 1)\n",
      "    infected = np.sum((~phen & env), axis=1)\n",
      "    return protected, infected"
     ],
     "language": "python",
     "metadata": {},
     "outputs": [],
     "prompt_number": 2
    },
    {
     "cell_type": "code",
     "collapsed": false,
     "input": [
      "%%cython\n",
      "import cython\n",
      "import numpy as np\n",
      "cimport numpy as np\n",
      "@cython.boundscheck(False)\n",
      "@cython.wraparound(False)\n",
      "def cython(np.ndarray[np.uint8_t, cast=True, ndim=2] phen,\n",
      "           np.ndarray[np.uint8_t, cast=True, ndim=1] env):\n",
      "    cdef np.ndarray[np.uint32_t, ndim=1] protected = np.empty(phen.shape[0], dtype = np.uint32)\n",
      "    cdef np.ndarray[np.uint32_t, ndim=1] infected = np.empty(phen.shape[0], dtype = np.uint32)\n",
      "# alternatively use memoryview access (slightly faster but less convenient)\n",
      "#def cython(unsigned int[:, ::1] phen,\n",
      "#           unsigned int[:] env):\n",
      "#    cdef unsigned int[:] protected = np.empty(phen.shape[0], dtype = np.uint32)\n",
      "#    cdef unsigned int[:] infected = np.empty(phen.shape[0], dtype = np.uint32)\n",
      "    cdef Py_ssize_t nind = phen.shape[0]\n",
      "    cdef Py_ssize_t L = phen.shape[1]\n",
      "    cdef Py_ssize_t i, j\n",
      "    cdef unsigned int tprotected, tinfected\n",
      "    for i in range(nind):\n",
      "        tprotected = 0\n",
      "        tinfected = 0\n",
      "        for j in range(L):\n",
      "            if phen[i, j]:\n",
      "                tprotected += 1\n",
      "            elif env[j]:\n",
      "                tinfected += 1\n",
      "        protected[i] = tprotected\n",
      "        infected[i] = tinfected\n",
      "    return protected, infected"
     ],
     "language": "python",
     "metadata": {},
     "outputs": [],
     "prompt_number": 3
    },
    {
     "cell_type": "code",
     "collapsed": false,
     "input": [
      "import numexpr as ne\n",
      "def numexpr(phen, env):\n",
      "    protected = np.sum(phen, axis=1)\n",
      "    infected = ne.evaluate('~phen & env').sum(axis=1)\n",
      "    # the following is not working as boolean do not support addition in numexpr\n",
      "    #infected = ne.evaluate('sum((~phen & env), axis=1)')\n",
      "    return protected, infected"
     ],
     "language": "python",
     "metadata": {},
     "outputs": [],
     "prompt_number": 4
    },
    {
     "cell_type": "code",
     "collapsed": false,
     "input": [
      "L = 100\n",
      "nind = 1000\n",
      "phen = np.random.rand(nind, L) < 0.5\n",
      "env = np.random.rand(L) < 0.5\n",
      "p1, i1 = direct(phen, env)\n",
      "p2, i2 = cython(phen, env)\n",
      "p3, i3 = numexpr(phen, env)\n",
      "print np.alltrue(p1 == p2) and np.alltrue(i1 == i2)\n",
      "print np.alltrue(p1 == p3) and np.alltrue(i1 == i3)"
     ],
     "language": "python",
     "metadata": {},
     "outputs": [
      {
       "output_type": "stream",
       "stream": "stdout",
       "text": [
        "True\n",
        "True\n"
       ]
      }
     ],
     "prompt_number": 5
    },
    {
     "cell_type": "code",
     "collapsed": false,
     "input": [
      "for L in [1, 10, 100]:\n",
      "    nind = 100\n",
      "    phen = np.random.rand(nind, L) < 0.5\n",
      "    env = np.random.rand(L) < 0.5\n",
      "    %timeit direct(phen, env)\n",
      "    %timeit cython(phen, env)\n",
      "    %timeit numexpr(phen, env)\n",
      "    print "
     ],
     "language": "python",
     "metadata": {},
     "outputs": [
      {
       "output_type": "stream",
       "stream": "stdout",
       "text": [
        "100000 loops, best of 3: 9.9 \u00b5s per loop\n",
        "100000 loops, best of 3: 3.52 \u00b5s per loop"
       ]
      },
      {
       "output_type": "stream",
       "stream": "stdout",
       "text": [
        "\n",
        "100000 loops, best of 3: 18.9 \u00b5s per loop"
       ]
      },
      {
       "output_type": "stream",
       "stream": "stdout",
       "text": [
        "\n",
        "\n",
        "100000 loops, best of 3: 16 \u00b5s per loop"
       ]
      },
      {
       "output_type": "stream",
       "stream": "stdout",
       "text": [
        "\n",
        "100000 loops, best of 3: 4.33 \u00b5s per loop"
       ]
      },
      {
       "output_type": "stream",
       "stream": "stdout",
       "text": [
        "\n",
        "10000 loops, best of 3: 27 \u00b5s per loop"
       ]
      },
      {
       "output_type": "stream",
       "stream": "stdout",
       "text": [
        "\n",
        "\n",
        "10000 loops, best of 3: 41 \u00b5s per loop"
       ]
      },
      {
       "output_type": "stream",
       "stream": "stdout",
       "text": [
        "\n",
        "10000 loops, best of 3: 39.2 \u00b5s per loop"
       ]
      },
      {
       "output_type": "stream",
       "stream": "stdout",
       "text": [
        "\n",
        "10000 loops, best of 3: 135 \u00b5s per loop"
       ]
      },
      {
       "output_type": "stream",
       "stream": "stdout",
       "text": [
        "\n",
        "\n"
       ]
      }
     ],
     "prompt_number": 6
    },
    {
     "cell_type": "markdown",
     "metadata": {},
     "source": [
      "Winner depends on size: for large sizes numpy leads, whereas for very small arrays cython wins out. As expected there is no large gain to be made over the already fully vectorized numpy code."
     ]
    }
   ],
   "metadata": {}
  }
 ]
}