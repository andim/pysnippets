{
 "metadata": {
  "name": "",
  "signature": "sha256:72f53573dc6fc8dc67c8b8a2a0b24806bbc1922aca1aa8fe2596935407f88ad5"
 },
 "nbformat": 3,
 "nbformat_minor": 0,
 "worksheets": [
  {
   "cells": [
    {
     "cell_type": "heading",
     "level": 1,
     "metadata": {},
     "source": [
      "Simulate L two-state Markov processes"
     ]
    },
    {
     "cell_type": "markdown",
     "metadata": {},
     "source": [
      "How do you time step L parallel two state Markov processes most efficiently? Here we compare three approaches:\n",
      "\n",
      "- straightforward, pure python loop\n",
      "- cython accelerated version of the same code\n",
      "- vectorized numpy code"
     ]
    },
    {
     "cell_type": "code",
     "collapsed": false,
     "input": [
      "import numpy as np\n",
      "%load_ext cythonmagic"
     ],
     "language": "python",
     "metadata": {},
     "outputs": [],
     "prompt_number": 1
    },
    {
     "cell_type": "code",
     "collapsed": false,
     "input": [
      "# simple looping timestepping of the dynamics\n",
      "def step_alternative(env, a, b, rand):\n",
      "    L = len(env)\n",
      "    for i in range(L):\n",
      "        if env[i] and (rand[i] > 1-b[i]):\n",
      "            env[i] = False\n",
      "        # crucially need else if here\n",
      "        # this before caused buggy behavior\n",
      "        # environment could otherwise be set to false before and then rechanged\n",
      "        elif (not env[i]) and (rand[i] < a[i]):\n",
      "            env[i] = True\n",
      "    return env"
     ],
     "language": "python",
     "metadata": {},
     "outputs": [],
     "prompt_number": 2
    },
    {
     "cell_type": "code",
     "collapsed": false,
     "input": [
      "# simple looping timestepping of the dynamics\n",
      "def step(x, a, b, rand):\n",
      "    out = np.empty(x.shape, dtype=bool)\n",
      "    for i in range(x.shape[0]):\n",
      "        if x[i]:\n",
      "            out[i] = rand[i] < 1-b[i]\n",
      "        else:\n",
      "            out[i] = rand[i] < a[i]\n",
      "    return out"
     ],
     "language": "python",
     "metadata": {},
     "outputs": [],
     "prompt_number": 3
    },
    {
     "cell_type": "code",
     "collapsed": false,
     "input": [
      "%%cython\n",
      "# cython accelerated simple looping timestepping of the dynamics\n",
      "import cython\n",
      "import numpy as np\n",
      "cimport numpy as np\n",
      "from libcpp cimport bool\n",
      "# numpy boolean array can not be used in cython, therefore need to cast to uint8\n",
      "@cython.boundscheck(False)\n",
      "@cython.wraparound(False)\n",
      "def step_cython(np.ndarray[np.uint8_t, cast=True] x,\n",
      "                np.ndarray[np.double_t] a,\n",
      "                np.ndarray[np.double_t] b,\n",
      "                np.ndarray[np.double_t] rand):\n",
      "    cdef np.ndarray[np.uint8_t, cast=True] out = np.empty(x.shape[0], dtype=np.bool)\n",
      "    cdef Py_ssize_t i\n",
      "    for i in range(x.shape[0]):\n",
      "        if x[i]:\n",
      "            out[i] = rand[i] < 1.0-b[i]\n",
      "        else:\n",
      "            out[i] = rand[i] < a[i]\n",
      "    return out"
     ],
     "language": "python",
     "metadata": {},
     "outputs": [],
     "prompt_number": 4
    },
    {
     "cell_type": "code",
     "collapsed": false,
     "input": [
      "# vectorized timestepping of the dynamics using bitwise operators\n",
      "def step_vectorized(env, a, b, rand):\n",
      "    return (env & (rand < 1-b)) | (~env & (rand < a))"
     ],
     "language": "python",
     "metadata": {},
     "outputs": [],
     "prompt_number": 5
    },
    {
     "cell_type": "code",
     "collapsed": false,
     "input": [
      "x = np.ones(3, dtype=bool) \n",
      "rand = np.asarray([0.1, 0.5, 0.9])\n",
      "a = 1.0*np.ones(3)\n",
      "b = 0.2*np.ones(3)\n",
      "print step_cython(x, a, b, rand)\n",
      "print step_vectorized(x, a, b, rand)\n",
      "print step(x, a, b, rand)"
     ],
     "language": "python",
     "metadata": {},
     "outputs": [
      {
       "output_type": "stream",
       "stream": "stdout",
       "text": [
        "[ True  True False]\n",
        "[ True  True False]\n",
        "[ True  True False]\n"
       ]
      }
     ],
     "prompt_number": 6
    },
    {
     "cell_type": "code",
     "collapsed": false,
     "input": [
      "L = 3\n",
      "# parameters: switching rates a, b\n",
      "b = 0.2 * np.ones(L)\n",
      "a = 1.0 * np.ones(L)\n",
      "rand = np.random.rand(L)\n",
      "# ensure that all give the same result\n",
      "np.testing.assert_array_equal(step(np.ones(L, dtype = bool), a, b, rand),\n",
      "    step_vectorized(np.ones(L, dtype = bool), a, b, rand))\n",
      "np.testing.assert_array_equal(step(np.ones(L, dtype = bool), a, b, rand),\n",
      "    step_cython(np.ones(L, dtype = bool), a, b, rand))\n",
      "np.testing.assert_array_equal(step(np.zeros(L, dtype = bool), a, b, rand),\n",
      "    step_vectorized(np.zeros(L, dtype = bool), a, b, rand))\n",
      "np.testing.assert_array_equal(step(np.zeros(L, dtype = bool), a, b, rand),\n",
      "    step_cython(np.zeros(L, dtype = bool), a, b, rand))"
     ],
     "language": "python",
     "metadata": {},
     "outputs": [],
     "prompt_number": 7
    },
    {
     "cell_type": "markdown",
     "metadata": {},
     "source": [
      "All three function produce equivalent results."
     ]
    },
    {
     "cell_type": "code",
     "collapsed": false,
     "input": [
      "for L in [1, 10, 100, 1000, 10000]:\n",
      "    print L\n",
      "    # parameters: switching rates a, b\n",
      "    b = 0.05 * np.ones(L)\n",
      "    a = 0.05 * np.ones(L)\n",
      "    rand = np.random.rand(L)\n",
      "    %timeit step(np.zeros(L, dtype = bool), a, b, rand)\n",
      "    %timeit step_cython(np.zeros(L, dtype = bool), a, b, rand)\n",
      "    %timeit step_vectorized(np.zeros(L, dtype = bool), a, b, rand)"
     ],
     "language": "python",
     "metadata": {},
     "outputs": [
      {
       "output_type": "stream",
       "stream": "stdout",
       "text": [
        "1\n",
        "100000 loops, best of 3: 2.1 \u00b5s per loop"
       ]
      },
      {
       "output_type": "stream",
       "stream": "stdout",
       "text": [
        "\n",
        "100000 loops, best of 3: 2.98 \u00b5s per loop"
       ]
      },
      {
       "output_type": "stream",
       "stream": "stdout",
       "text": [
        "\n",
        "100000 loops, best of 3: 6.53 \u00b5s per loop"
       ]
      },
      {
       "output_type": "stream",
       "stream": "stdout",
       "text": [
        "\n",
        "10\n",
        "100000 loops, best of 3: 4.56 \u00b5s per loop"
       ]
      },
      {
       "output_type": "stream",
       "stream": "stdout",
       "text": [
        "\n",
        "100000 loops, best of 3: 3.01 \u00b5s per loop"
       ]
      },
      {
       "output_type": "stream",
       "stream": "stdout",
       "text": [
        "\n",
        "100000 loops, best of 3: 6.64 \u00b5s per loop"
       ]
      },
      {
       "output_type": "stream",
       "stream": "stdout",
       "text": [
        "\n",
        "100\n",
        "10000 loops, best of 3: 29.7 \u00b5s per loop"
       ]
      },
      {
       "output_type": "stream",
       "stream": "stdout",
       "text": [
        "\n",
        "100000 loops, best of 3: 3.26 \u00b5s per loop"
       ]
      },
      {
       "output_type": "stream",
       "stream": "stdout",
       "text": [
        "\n",
        "100000 loops, best of 3: 7.03 \u00b5s per loop"
       ]
      },
      {
       "output_type": "stream",
       "stream": "stdout",
       "text": [
        "\n",
        "1000\n",
        "1000 loops, best of 3: 285 \u00b5s per loop"
       ]
      },
      {
       "output_type": "stream",
       "stream": "stdout",
       "text": [
        "\n",
        "100000 loops, best of 3: 4.88 \u00b5s per loop"
       ]
      },
      {
       "output_type": "stream",
       "stream": "stdout",
       "text": [
        "\n",
        "100000 loops, best of 3: 9.19 \u00b5s per loop"
       ]
      },
      {
       "output_type": "stream",
       "stream": "stdout",
       "text": [
        "\n",
        "10000\n",
        "100 loops, best of 3: 2.82 ms per loop"
       ]
      },
      {
       "output_type": "stream",
       "stream": "stdout",
       "text": [
        "\n",
        "10000 loops, best of 3: 21.9 \u00b5s per loop"
       ]
      },
      {
       "output_type": "stream",
       "stream": "stdout",
       "text": [
        "\n",
        "10000 loops, best of 3: 28.2 \u00b5s per loop"
       ]
      },
      {
       "output_type": "stream",
       "stream": "stdout",
       "text": [
        "\n"
       ]
      }
     ],
     "prompt_number": 8
    },
    {
     "cell_type": "markdown",
     "metadata": {},
     "source": [
      "The cython accelerated code is fastest outperforming the vectorized code especially for small arrays."
     ]
    },
    {
     "cell_type": "code",
     "collapsed": false,
     "input": [
      "%%cython\n",
      "# cython accelerated simple looping timestepping of the dynamics\n",
      "import cython\n",
      "import numpy as np\n",
      "cimport numpy as np\n",
      "from libcpp cimport bool\n",
      "# numpy boolean array can not be used in cython, therefore need to cast to uint8\n",
      "@cython.boundscheck(False)\n",
      "@cython.wraparound(False)\n",
      "def step_cython_single(np.ndarray[np.uint8_t, cast=True] x,\n",
      "                double a,\n",
      "                double b,\n",
      "                np.ndarray[np.double_t] rand):\n",
      "    cdef np.ndarray[np.uint8_t, cast=True] out = np.empty(x.shape[0], dtype=np.bool)\n",
      "    cdef Py_ssize_t i\n",
      "    for i in range(x.shape[0]):\n",
      "        if x[i]:\n",
      "            out[i] = rand[i] < 1.0-b\n",
      "        else:\n",
      "            out[i] = rand[i] < a\n",
      "    return out"
     ],
     "language": "python",
     "metadata": {},
     "outputs": [],
     "prompt_number": 9
    },
    {
     "cell_type": "code",
     "collapsed": false,
     "input": [
      "for L in [1, 10, 100, 1000, 10000]:\n",
      "    print L\n",
      "    # parameters: switching rates a, b\n",
      "    b = 0.05\n",
      "    a = 0.05\n",
      "    rand = np.random.rand(L)\n",
      "    %timeit step_cython_single(np.zeros(L, dtype = bool), a, b, rand)\n",
      "    %timeit step_vectorized(np.zeros(L, dtype = bool), a, b, rand)"
     ],
     "language": "python",
     "metadata": {},
     "outputs": [
      {
       "output_type": "stream",
       "stream": "stdout",
       "text": [
        "1\n",
        "100000 loops, best of 3: 2.44 \u00b5s per loop"
       ]
      },
      {
       "output_type": "stream",
       "stream": "stdout",
       "text": [
        "\n",
        "100000 loops, best of 3: 6.24 \u00b5s per loop"
       ]
      },
      {
       "output_type": "stream",
       "stream": "stdout",
       "text": [
        "\n",
        "10\n",
        "100000 loops, best of 3: 2.72 \u00b5s per loop"
       ]
      },
      {
       "output_type": "stream",
       "stream": "stdout",
       "text": [
        "\n",
        "100000 loops, best of 3: 6.36 \u00b5s per loop"
       ]
      },
      {
       "output_type": "stream",
       "stream": "stdout",
       "text": [
        "\n",
        "100\n",
        "100000 loops, best of 3: 2.64 \u00b5s per loop"
       ]
      },
      {
       "output_type": "stream",
       "stream": "stdout",
       "text": [
        "\n",
        "100000 loops, best of 3: 6.45 \u00b5s per loop"
       ]
      },
      {
       "output_type": "stream",
       "stream": "stdout",
       "text": [
        "\n",
        "1000\n",
        "100000 loops, best of 3: 4.2 \u00b5s per loop"
       ]
      },
      {
       "output_type": "stream",
       "stream": "stdout",
       "text": [
        "\n",
        "100000 loops, best of 3: 7.9 \u00b5s per loop"
       ]
      },
      {
       "output_type": "stream",
       "stream": "stdout",
       "text": [
        "\n",
        "10000\n",
        "100000 loops, best of 3: 18.3 \u00b5s per loop"
       ]
      },
      {
       "output_type": "stream",
       "stream": "stdout",
       "text": [
        "\n",
        "100000 loops, best of 3: 19.8 \u00b5s per loop"
       ]
      },
      {
       "output_type": "stream",
       "stream": "stdout",
       "text": [
        "\n"
       ]
      }
     ],
     "prompt_number": 10
    }
   ],
   "metadata": {}
  }
 ]
}