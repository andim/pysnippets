{
 "metadata": {
  "name": "",
  "signature": "sha256:88fefb47d327d803e77156558aeaa8541c75eac16eed42efe3659638bf8c0834"
 },
 "nbformat": 3,
 "nbformat_minor": 0,
 "worksheets": [
  {
   "cells": [
    {
     "cell_type": "heading",
     "level": 1,
     "metadata": {},
     "source": [
      "Simulate L two-state Markov processes"
     ]
    },
    {
     "cell_type": "markdown",
     "metadata": {},
     "source": [
      "How do you time step L parallel two state Markov processes most efficiently? Here we compare three approaches:\n",
      "\n",
      "- straightforward, pure python loop\n",
      "- cython accelerated version of the same code\n",
      "- vectorized numpy code"
     ]
    },
    {
     "cell_type": "code",
     "collapsed": false,
     "input": [
      "import numpy as np\n",
      "%load_ext cythonmagic"
     ],
     "language": "python",
     "metadata": {},
     "outputs": [],
     "prompt_number": 1
    },
    {
     "cell_type": "code",
     "collapsed": false,
     "input": [
      "# simple looping timestepping of the dynamics\n",
      "def step(env, a, b, rand):\n",
      "    L = len(env)\n",
      "    for i in range(L):\n",
      "        if env[i] and (rand[i] > 1-b[i]):\n",
      "            env[i] = False\n",
      "        if (not env[i]) and (rand[i] < a[i]):\n",
      "            env[i] = True\n",
      "    return env"
     ],
     "language": "python",
     "metadata": {},
     "outputs": [],
     "prompt_number": 2
    },
    {
     "cell_type": "code",
     "collapsed": false,
     "input": [
      "%%cython\n",
      "# cython accelerated simple looping timestepping of the dynamics\n",
      "import cython\n",
      "cimport numpy as np\n",
      "from libcpp cimport bool\n",
      "# numpy boolean array can not be used in cython, therefore need to cast to uint8\n",
      "@cython.boundscheck(False)\n",
      "@cython.wraparound(False)\n",
      "def step_cython(np.ndarray[np.uint8_t, cast=True] x,\n",
      "                np.ndarray[np.double_t] a,\n",
      "                np.ndarray[np.double_t] b,\n",
      "                np.ndarray[np.double_t] rand):\n",
      "    cdef Py_ssize_t i\n",
      "    for i in range(x.shape[0]):\n",
      "        if x[i] and (rand[i] > 1.0-b[i]):\n",
      "            x[i] = False\n",
      "        if (not x[i]) and (rand[i] < a[i]):\n",
      "            x[i] = True\n",
      "    return x"
     ],
     "language": "python",
     "metadata": {},
     "outputs": [],
     "prompt_number": 3
    },
    {
     "cell_type": "code",
     "collapsed": false,
     "input": [
      "# vectorized timestepping of the dynamics using bitwise operators\n",
      "def step_vectorized(env, a, b, rand):\n",
      "    return (env & (rand < 1-b)) | (~env & (rand < a))"
     ],
     "language": "python",
     "metadata": {},
     "outputs": [],
     "prompt_number": 4
    },
    {
     "cell_type": "code",
     "collapsed": false,
     "input": [
      "L = 100\n",
      "# parameters: switching rates a, b\n",
      "b = 0.05 * np.ones(L)\n",
      "a = 0.05 * np.ones(L)\n",
      "rand = np.random.rand(L)\n",
      "# ensure that all give the same result\n",
      "print np.all(~(step(np.ones(L, dtype = bool), a, b, rand) ^ \n",
      "    step_vectorized(np.ones(L, dtype = bool), a, b, rand)))\n",
      "print np.all(~(step(np.ones(L, dtype = bool), a, b, rand) ^ \n",
      "    step_cython(np.ones(L, dtype = bool), a, b, rand)))\n",
      "print np.all(~(step(np.zeros(L, dtype = bool), a, b, rand) ^\n",
      "    step_vectorized(np.zeros(L, dtype = bool), a, b, rand)))\n",
      "print np.all(~(step(np.zeros(L, dtype = bool), a, b, rand) ^\n",
      "    step_cython(np.zeros(L, dtype = bool), a, b, rand)))"
     ],
     "language": "python",
     "metadata": {},
     "outputs": [
      {
       "output_type": "stream",
       "stream": "stdout",
       "text": [
        "True\n",
        "True\n",
        "True\n",
        "True\n"
       ]
      }
     ],
     "prompt_number": 5
    },
    {
     "cell_type": "markdown",
     "metadata": {},
     "source": [
      "All three function produce equivalent results."
     ]
    },
    {
     "cell_type": "code",
     "collapsed": false,
     "input": [
      "for L in [1, 10, 100]:\n",
      "    print L\n",
      "    # parameters: switching rates a, b\n",
      "    b = 0.05 * np.ones(L)\n",
      "    a = 0.05 * np.ones(L)\n",
      "    rand = np.random.rand(L)\n",
      "    %timeit step(np.zeros(L, dtype = bool), a, b, rand)\n",
      "    %timeit step_cython(np.zeros(L, dtype = bool), a, b, rand)\n",
      "    %timeit step_vectorized(np.zeros(L, dtype = bool), a, b, rand)"
     ],
     "language": "python",
     "metadata": {},
     "outputs": [
      {
       "output_type": "stream",
       "stream": "stdout",
       "text": [
        "1\n",
        "1000000 loops, best of 3: 1.43 \u00b5s per loop"
       ]
      },
      {
       "output_type": "stream",
       "stream": "stdout",
       "text": [
        "\n",
        "100000 loops, best of 3: 1.96 \u00b5s per loop"
       ]
      },
      {
       "output_type": "stream",
       "stream": "stdout",
       "text": [
        "\n",
        "100000 loops, best of 3: 6.6 \u00b5s per loop"
       ]
      },
      {
       "output_type": "stream",
       "stream": "stdout",
       "text": [
        "\n",
        "10\n",
        "100000 loops, best of 3: 3.91 \u00b5s per loop"
       ]
      },
      {
       "output_type": "stream",
       "stream": "stdout",
       "text": [
        "\n",
        "100000 loops, best of 3: 2.08 \u00b5s per loop"
       ]
      },
      {
       "output_type": "stream",
       "stream": "stdout",
       "text": [
        "\n",
        "100000 loops, best of 3: 6.86 \u00b5s per loop"
       ]
      },
      {
       "output_type": "stream",
       "stream": "stdout",
       "text": [
        "\n",
        "100\n",
        "10000 loops, best of 3: 29 \u00b5s per loop"
       ]
      },
      {
       "output_type": "stream",
       "stream": "stdout",
       "text": [
        "\n",
        "100000 loops, best of 3: 2.38 \u00b5s per loop"
       ]
      },
      {
       "output_type": "stream",
       "stream": "stdout",
       "text": [
        "\n",
        "100000 loops, best of 3: 7.33 \u00b5s per loop"
       ]
      },
      {
       "output_type": "stream",
       "stream": "stdout",
       "text": [
        "\n"
       ]
      }
     ],
     "prompt_number": 6
    },
    {
     "cell_type": "markdown",
     "metadata": {},
     "source": [
      "The cython accelerated code is fastest outperforming the vectorized code by about a factor of three."
     ]
    }
   ],
   "metadata": {}
  }
 ]
}