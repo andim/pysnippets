{
 "cells": [
  {
   "cell_type": "markdown",
   "metadata": {},
   "source": [
    "# Simulate L two-state Markov processes"
   ]
  },
  {
   "cell_type": "markdown",
   "metadata": {},
   "source": [
    "How do you time step L parallel two state Markov processes most efficiently? Here we compare three approaches:\n",
    "\n",
    "- straightforward, pure python loop\n",
    "- cython accelerated version of the same code\n",
    "- vectorized numpy code"
   ]
  },
  {
   "cell_type": "code",
   "execution_count": 1,
   "metadata": {
    "collapsed": false
   },
   "outputs": [],
   "source": [
    "import numpy as np\n",
    "%load_ext cython"
   ]
  },
  {
   "cell_type": "code",
   "execution_count": 2,
   "metadata": {
    "collapsed": false
   },
   "outputs": [],
   "source": [
    "# simple looping timestepping of the dynamics\n",
    "def step_alternative(env, a, b, rand):\n",
    "    L = len(env)\n",
    "    for i in range(L):\n",
    "        if env[i] and (rand[i] > 1-b[i]):\n",
    "            env[i] = False\n",
    "        # crucially need else if here\n",
    "        # this before caused buggy behavior\n",
    "        # environment could otherwise be set to false before and then rechanged\n",
    "        elif (not env[i]) and (rand[i] < a[i]):\n",
    "            env[i] = True\n",
    "    return env"
   ]
  },
  {
   "cell_type": "code",
   "execution_count": 3,
   "metadata": {
    "collapsed": false
   },
   "outputs": [],
   "source": [
    "# simple looping timestepping of the dynamics\n",
    "def step(x, a, b, rand):\n",
    "    out = np.empty(x.shape, dtype=bool)\n",
    "    for i in range(x.shape[0]):\n",
    "        if x[i]:\n",
    "            out[i] = rand[i] < 1-b[i]\n",
    "        else:\n",
    "            out[i] = rand[i] < a[i]\n",
    "    return out"
   ]
  },
  {
   "cell_type": "code",
   "execution_count": 4,
   "metadata": {
    "collapsed": false
   },
   "outputs": [],
   "source": [
    "%%cython\n",
    "# cython accelerated simple looping timestepping of the dynamics\n",
    "import cython\n",
    "import numpy as np\n",
    "cimport numpy as np\n",
    "from libcpp cimport bool\n",
    "# numpy boolean array can not be used in cython, therefore need to cast to uint8\n",
    "@cython.boundscheck(False)\n",
    "@cython.wraparound(False)\n",
    "def step_cython(np.ndarray[np.uint8_t, cast=True] x,\n",
    "                np.ndarray[np.double_t] a,\n",
    "                np.ndarray[np.double_t] b,\n",
    "                np.ndarray[np.double_t] rand):\n",
    "    cdef np.ndarray[np.uint8_t, cast=True] out = np.empty(x.shape[0], dtype=np.bool)\n",
    "    cdef Py_ssize_t i\n",
    "    for i in range(x.shape[0]):\n",
    "        if x[i]:\n",
    "            out[i] = rand[i] < 1.0-b[i]\n",
    "        else:\n",
    "            out[i] = rand[i] < a[i]\n",
    "    return out"
   ]
  },
  {
   "cell_type": "code",
   "execution_count": 5,
   "metadata": {
    "collapsed": false
   },
   "outputs": [],
   "source": [
    "# vectorized timestepping of the dynamics using bitwise operators\n",
    "def step_vectorized(env, a, b, rand):\n",
    "    return (env & (rand < 1-b)) | (~env & (rand < a))"
   ]
  },
  {
   "cell_type": "code",
   "execution_count": 6,
   "metadata": {
    "collapsed": false
   },
   "outputs": [
    {
     "name": "stdout",
     "output_type": "stream",
     "text": [
      "[ True  True False]\n",
      "[ True  True False]\n",
      "[ True  True False]\n"
     ]
    }
   ],
   "source": [
    "x = np.ones(3, dtype=bool) \n",
    "rand = np.asarray([0.1, 0.5, 0.9])\n",
    "a = 1.0*np.ones(3)\n",
    "b = 0.2*np.ones(3)\n",
    "print step_cython(x, a, b, rand)\n",
    "print step_vectorized(x, a, b, rand)\n",
    "print step(x, a, b, rand)"
   ]
  },
  {
   "cell_type": "code",
   "execution_count": 7,
   "metadata": {
    "collapsed": false
   },
   "outputs": [],
   "source": [
    "L = 3\n",
    "# parameters: switching rates a, b\n",
    "b = 0.2 * np.ones(L)\n",
    "a = 1.0 * np.ones(L)\n",
    "rand = np.random.rand(L)\n",
    "# ensure that all give the same result\n",
    "np.testing.assert_array_equal(step(np.ones(L, dtype = bool), a, b, rand),\n",
    "    step_vectorized(np.ones(L, dtype = bool), a, b, rand))\n",
    "np.testing.assert_array_equal(step(np.ones(L, dtype = bool), a, b, rand),\n",
    "    step_cython(np.ones(L, dtype = bool), a, b, rand))\n",
    "np.testing.assert_array_equal(step(np.zeros(L, dtype = bool), a, b, rand),\n",
    "    step_vectorized(np.zeros(L, dtype = bool), a, b, rand))\n",
    "np.testing.assert_array_equal(step(np.zeros(L, dtype = bool), a, b, rand),\n",
    "    step_cython(np.zeros(L, dtype = bool), a, b, rand))"
   ]
  },
  {
   "cell_type": "markdown",
   "metadata": {},
   "source": [
    "All three function produce equivalent results."
   ]
  },
  {
   "cell_type": "code",
   "execution_count": 8,
   "metadata": {
    "collapsed": false
   },
   "outputs": [
    {
     "name": "stdout",
     "output_type": "stream",
     "text": [
      "1\n",
      "The slowest run took 5.86 times longer than the fastest. This could mean that an intermediate result is being cached.\n",
      "100000 loops, best of 3: 2.4 µs per loop\n",
      "The slowest run took 4.78 times longer than the fastest. This could mean that an intermediate result is being cached.\n",
      "100000 loops, best of 3: 3.59 µs per loop\n",
      "The slowest run took 5.57 times longer than the fastest. This could mean that an intermediate result is being cached.\n",
      "100000 loops, best of 3: 5.56 µs per loop\n",
      "10\n",
      "The slowest run took 4.19 times longer than the fastest. This could mean that an intermediate result is being cached.\n",
      "100000 loops, best of 3: 4.72 µs per loop\n",
      "The slowest run took 4.84 times longer than the fastest. This could mean that an intermediate result is being cached.\n",
      "100000 loops, best of 3: 3.74 µs per loop\n",
      "The slowest run took 6.16 times longer than the fastest. This could mean that an intermediate result is being cached.\n",
      "100000 loops, best of 3: 5.84 µs per loop\n",
      "100\n",
      "10000 loops, best of 3: 28.5 µs per loop\n",
      "The slowest run took 4.56 times longer than the fastest. This could mean that an intermediate result is being cached.\n",
      "100000 loops, best of 3: 3.92 µs per loop\n",
      "The slowest run took 5.82 times longer than the fastest. This could mean that an intermediate result is being cached.\n",
      "100000 loops, best of 3: 5.65 µs per loop\n",
      "1000\n",
      "1000 loops, best of 3: 283 µs per loop\n",
      "The slowest run took 4.32 times longer than the fastest. This could mean that an intermediate result is being cached.\n",
      "100000 loops, best of 3: 6.23 µs per loop\n",
      "The slowest run took 7.82 times longer than the fastest. This could mean that an intermediate result is being cached.\n",
      "100000 loops, best of 3: 7.29 µs per loop\n",
      "10000\n",
      "100 loops, best of 3: 3.03 ms per loop\n",
      "The slowest run took 4.25 times longer than the fastest. This could mean that an intermediate result is being cached.\n",
      "10000 loops, best of 3: 26.6 µs per loop\n",
      "The slowest run took 9.98 times longer than the fastest. This could mean that an intermediate result is being cached.\n",
      "10000 loops, best of 3: 24.4 µs per loop\n"
     ]
    }
   ],
   "source": [
    "for L in [1, 10, 100, 1000, 10000]:\n",
    "    print L\n",
    "    # parameters: switching rates a, b\n",
    "    b = 0.05 * np.ones(L)\n",
    "    a = 0.05 * np.ones(L)\n",
    "    rand = np.random.rand(L)\n",
    "    %timeit step(np.zeros(L, dtype = bool), a, b, rand)\n",
    "    %timeit step_cython(np.zeros(L, dtype = bool), a, b, rand)\n",
    "    %timeit step_vectorized(np.zeros(L, dtype = bool), a, b, rand)"
   ]
  },
  {
   "cell_type": "markdown",
   "metadata": {},
   "source": [
    "The cython accelerated code is fastest outperforming the vectorized code especially for small arrays."
   ]
  },
  {
   "cell_type": "code",
   "execution_count": 9,
   "metadata": {
    "collapsed": false
   },
   "outputs": [],
   "source": [
    "%%cython\n",
    "# cython accelerated simple looping timestepping of the dynamics\n",
    "import cython\n",
    "import numpy as np\n",
    "cimport numpy as np\n",
    "from libcpp cimport bool\n",
    "# numpy boolean array can not be used in cython, therefore need to cast to uint8\n",
    "@cython.boundscheck(False)\n",
    "@cython.wraparound(False)\n",
    "def step_cython_single(np.ndarray[np.uint8_t, cast=True] x,\n",
    "                double a,\n",
    "                double b,\n",
    "                np.ndarray[np.double_t] rand):\n",
    "    cdef np.ndarray[np.uint8_t, cast=True] out = np.empty(x.shape[0], dtype=np.bool)\n",
    "    cdef Py_ssize_t i\n",
    "    for i in range(x.shape[0]):\n",
    "        if x[i]:\n",
    "            out[i] = rand[i] < 1.0-b\n",
    "        else:\n",
    "            out[i] = rand[i] < a\n",
    "    return out"
   ]
  },
  {
   "cell_type": "code",
   "execution_count": 10,
   "metadata": {
    "collapsed": false
   },
   "outputs": [
    {
     "name": "stdout",
     "output_type": "stream",
     "text": [
      "1\n",
      "The slowest run took 7.02 times longer than the fastest. This could mean that an intermediate result is being cached.\n",
      "100000 loops, best of 3: 3.26 µs per loop\n",
      "The slowest run took 5.83 times longer than the fastest. This could mean that an intermediate result is being cached.\n",
      "100000 loops, best of 3: 5.11 µs per loop\n",
      "10\n",
      "The slowest run took 4.86 times longer than the fastest. This could mean that an intermediate result is being cached.\n",
      "100000 loops, best of 3: 3.28 µs per loop\n",
      "The slowest run took 6.01 times longer than the fastest. This could mean that an intermediate result is being cached.\n",
      "100000 loops, best of 3: 5.32 µs per loop\n",
      "100\n",
      "The slowest run took 4.99 times longer than the fastest. This could mean that an intermediate result is being cached.\n",
      "100000 loops, best of 3: 3.39 µs per loop\n",
      "The slowest run took 7.61 times longer than the fastest. This could mean that an intermediate result is being cached.\n",
      "100000 loops, best of 3: 4.85 µs per loop\n",
      "1000\n",
      "100000 loops, best of 3: 4.78 µs per loop\n",
      "The slowest run took 22.56 times longer than the fastest. This could mean that an intermediate result is being cached.\n",
      "100000 loops, best of 3: 5.59 µs per loop\n",
      "10000\n",
      "The slowest run took 5.03 times longer than the fastest. This could mean that an intermediate result is being cached.\n",
      "100000 loops, best of 3: 18.9 µs per loop\n",
      "The slowest run took 14.83 times longer than the fastest. This could mean that an intermediate result is being cached.\n",
      "100000 loops, best of 3: 15 µs per loop\n"
     ]
    }
   ],
   "source": [
    "for L in [1, 10, 100, 1000, 10000]:\n",
    "    print L\n",
    "    # parameters: switching rates a, b\n",
    "    b = 0.05\n",
    "    a = 0.05\n",
    "    rand = np.random.rand(L)\n",
    "    %timeit step_cython_single(np.zeros(L, dtype = bool), a, b, rand)\n",
    "    %timeit step_vectorized(np.zeros(L, dtype = bool), a, b, rand)"
   ]
  }
 ],
 "metadata": {
  "anaconda-cloud": {},
  "kernelspec": {
   "display_name": "Python [conda env:condapy2]",
   "language": "python",
   "name": "conda-env-condapy2-py"
  },
  "language_info": {
   "codemirror_mode": {
    "name": "ipython",
    "version": 2
   },
   "file_extension": ".py",
   "mimetype": "text/x-python",
   "name": "python",
   "nbconvert_exporter": "python",
   "pygments_lexer": "ipython2",
   "version": "2.7.13"
  },
  "toc": {
   "colors": {
    "hover_highlight": "#DAA520",
    "running_highlight": "#FF0000",
    "selected_highlight": "#FFD700"
   },
   "moveMenuLeft": true,
   "nav_menu": {
    "height": "40px",
    "width": "252px"
   },
   "navigate_menu": true,
   "number_sections": true,
   "sideBar": true,
   "threshold": 4,
   "toc_cell": false,
   "toc_section_display": "block",
   "toc_window_display": false
  }
 },
 "nbformat": 4,
 "nbformat_minor": 0
}
