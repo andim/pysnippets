{
 "metadata": {
  "name": "",
  "signature": "sha256:df4afd420af7b19c0e7b18e432838f562772d48ef57e88d4fe69914269ea1189"
 },
 "nbformat": 3,
 "nbformat_minor": 0,
 "worksheets": [
  {
   "cells": [
    {
     "cell_type": "heading",
     "level": 1,
     "metadata": {},
     "source": [
      "Simulate L two-state Markov processes"
     ]
    },
    {
     "cell_type": "markdown",
     "metadata": {},
     "source": [
      "How do you time step L parallel two state Markov processes most efficiently? Here we compare three approaches:\n",
      "\n",
      "- straightforward, pure python loop\n",
      "- cython accelerated version of the same code\n",
      "- vectorized numpy code"
     ]
    },
    {
     "cell_type": "code",
     "collapsed": false,
     "input": [
      "import numpy as np\n",
      "%load_ext cythonmagic"
     ],
     "language": "python",
     "metadata": {},
     "outputs": [],
     "prompt_number": 1
    },
    {
     "cell_type": "code",
     "collapsed": false,
     "input": [
      "L = 100\n",
      "# parameters: switching rates a, b\n",
      "b = 0.05 * np.ones(L)\n",
      "a = 0.05 * np.ones(L)\n",
      "rand = np.random.rand(L)"
     ],
     "language": "python",
     "metadata": {},
     "outputs": [],
     "prompt_number": 2
    },
    {
     "cell_type": "code",
     "collapsed": false,
     "input": [
      "# simple looping timestepping of the dynamics\n",
      "def step(env, a, b, rand):\n",
      "    L = len(env)\n",
      "    for i in range(L):\n",
      "        if env[i] and (rand[i] > 1-b[i]):\n",
      "            env[i] = False\n",
      "        if (not env[i]) and (rand[i] < a[i]):\n",
      "            env[i] = True\n",
      "    return env"
     ],
     "language": "python",
     "metadata": {},
     "outputs": [],
     "prompt_number": 3
    },
    {
     "cell_type": "code",
     "collapsed": false,
     "input": [
      "%%cython \n",
      "# cython accelerated simple looping timestepping of the dynamics\n",
      "cimport numpy as np\n",
      "# numpy boolean array can not be used in cython, therefore need to cast to uint8\n",
      "def step_cython(np.ndarray[np.uint8_t, cast=True] env,\n",
      "                np.ndarray[np.double_t] a,\n",
      "                np.ndarray[np.double_t] b,\n",
      "                np.ndarray[np.double_t] rand):\n",
      "    cdef int L = len(env)\n",
      "    cdef unsigned int i\n",
      "    for i in range(L):\n",
      "        if env[i] and (rand[i] > 1-b[i]):\n",
      "            env[i] = False\n",
      "        if (not env[i]) and (rand[i] < a[i]):\n",
      "            env[i] = True\n",
      "    return env"
     ],
     "language": "python",
     "metadata": {},
     "outputs": [],
     "prompt_number": 4
    },
    {
     "cell_type": "code",
     "collapsed": false,
     "input": [
      "# vectorized timestepping of the dynamics using bitwise operators\n",
      "def step_vectorized(env, a, b, rand):\n",
      "    return (env & (rand < 1-b)) | (~env & (rand < a))"
     ],
     "language": "python",
     "metadata": {},
     "outputs": [],
     "prompt_number": 5
    },
    {
     "cell_type": "code",
     "collapsed": false,
     "input": [
      "# ensure that all give the same result\n",
      "print np.all(~(step(np.ones(L, dtype = bool), a, b, rand) ^ \n",
      "    step_vectorized(np.ones(L, dtype = bool), a, b, rand)))\n",
      "print np.all(~(step(np.ones(L, dtype = bool), a, b, rand) ^ \n",
      "    step_cython(np.ones(L, dtype = bool), a, b, rand)))\n",
      "print np.all(~(step(np.zeros(L, dtype = bool), a, b, rand) ^\n",
      "    step_vectorized(np.zeros(L, dtype = bool), a, b, rand)))\n",
      "print np.all(~(step(np.zeros(L, dtype = bool), a, b, rand) ^\n",
      "    step_cython(np.zeros(L, dtype = bool), a, b, rand)))"
     ],
     "language": "python",
     "metadata": {},
     "outputs": [
      {
       "output_type": "stream",
       "stream": "stdout",
       "text": [
        "True\n",
        "True\n",
        "True\n",
        "True\n"
       ]
      }
     ],
     "prompt_number": 6
    },
    {
     "cell_type": "markdown",
     "metadata": {},
     "source": [
      "All three function produce equivalent results."
     ]
    },
    {
     "cell_type": "code",
     "collapsed": false,
     "input": [
      "%timeit step(np.zeros(L, dtype = bool), a, b, rand)\n",
      "%timeit step_cython(np.zeros(L, dtype = bool), a, b, rand)\n",
      "%timeit step_vectorized(np.zeros(L, dtype = bool), a, b, rand)"
     ],
     "language": "python",
     "metadata": {},
     "outputs": [
      {
       "output_type": "stream",
       "stream": "stdout",
       "text": [
        "10000 loops, best of 3: 27.5 \u00b5s per loop\n",
        "100000 loops, best of 3: 2.12 \u00b5s per loop"
       ]
      },
      {
       "output_type": "stream",
       "stream": "stdout",
       "text": [
        "\n",
        "100000 loops, best of 3: 7.12 \u00b5s per loop"
       ]
      },
      {
       "output_type": "stream",
       "stream": "stdout",
       "text": [
        "\n"
       ]
      }
     ],
     "prompt_number": 7
    },
    {
     "cell_type": "markdown",
     "metadata": {},
     "source": [
      "The cython accelerated code is fastest outperforming the vectorized code by about a factor of three."
     ]
    }
   ],
   "metadata": {}
  }
 ]
}