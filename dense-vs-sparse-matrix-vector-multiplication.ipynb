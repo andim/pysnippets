{
 "cells": [
  {
   "cell_type": "markdown",
   "metadata": {},
   "source": [
    "# A comparison of dense and sparse matrix vector multiplication routines"
   ]
  },
  {
   "cell_type": "code",
   "execution_count": 1,
   "metadata": {
    "collapsed": false
   },
   "outputs": [],
   "source": [
    "import numpy as np\n",
    "import scipy.sparse"
   ]
  },
  {
   "cell_type": "markdown",
   "metadata": {},
   "source": [
    "## Setup"
   ]
  },
  {
   "cell_type": "code",
   "execution_count": 2,
   "metadata": {
    "collapsed": false
   },
   "outputs": [],
   "source": [
    "p = 0.01\n",
    "Nc, Na = 100000, 2000\n",
    "c = np.ones(Nc)\n",
    "a = np.ones(Na)\n",
    "K = np.random.random((Nc, Na)) < p"
   ]
  },
  {
   "cell_type": "markdown",
   "metadata": {},
   "source": [
    "## Dense matrix vector multiplication"
   ]
  },
  {
   "cell_type": "code",
   "execution_count": 3,
   "metadata": {
    "collapsed": false
   },
   "outputs": [
    {
     "name": "stdout",
     "output_type": "stream",
     "text": [
      "1 loop, best of 3: 370 ms per loop\n"
     ]
    }
   ],
   "source": [
    "%timeit K.dot(a)"
   ]
  },
  {
   "cell_type": "code",
   "execution_count": 4,
   "metadata": {
    "collapsed": false
   },
   "outputs": [
    {
     "name": "stdout",
     "output_type": "stream",
     "text": [
      "1 loop, best of 3: 379 ms per loop\n"
     ]
    }
   ],
   "source": [
    "%timeit c.dot(K)"
   ]
  },
  {
   "cell_type": "markdown",
   "metadata": {},
   "source": [
    "## Sparse matrix vector multiplication"
   ]
  },
  {
   "cell_type": "code",
   "execution_count": 5,
   "metadata": {
    "collapsed": false
   },
   "outputs": [],
   "source": [
    "Ksp = scipy.sparse.csr_matrix(K)"
   ]
  },
  {
   "cell_type": "code",
   "execution_count": 6,
   "metadata": {
    "collapsed": false
   },
   "outputs": [
    {
     "name": "stdout",
     "output_type": "stream",
     "text": [
      "1 loop, best of 3: 711 ms per loop\n"
     ]
    }
   ],
   "source": [
    "%timeit scipy.sparse.csr_matrix(K)"
   ]
  },
  {
   "cell_type": "code",
   "execution_count": 7,
   "metadata": {
    "collapsed": false
   },
   "outputs": [
    {
     "data": {
      "text/plain": [
       "True"
      ]
     },
     "execution_count": 7,
     "metadata": {},
     "output_type": "execute_result"
    }
   ],
   "source": [
    "np.all(Ksp.dot(a) == K.dot(a))"
   ]
  },
  {
   "cell_type": "code",
   "execution_count": 8,
   "metadata": {
    "collapsed": false
   },
   "outputs": [
    {
     "name": "stdout",
     "output_type": "stream",
     "text": [
      "100 loops, best of 3: 5.6 ms per loop\n"
     ]
    }
   ],
   "source": [
    "%timeit Ksp.dot(a)"
   ]
  },
  {
   "cell_type": "code",
   "execution_count": 9,
   "metadata": {
    "collapsed": false
   },
   "outputs": [
    {
     "data": {
      "text/plain": [
       "True"
      ]
     },
     "execution_count": 9,
     "metadata": {},
     "output_type": "execute_result"
    }
   ],
   "source": [
    "np.all(Ksp.transpose(copy=False).dot(c) == c.dot(K))"
   ]
  },
  {
   "cell_type": "code",
   "execution_count": 10,
   "metadata": {
    "collapsed": false
   },
   "outputs": [
    {
     "name": "stdout",
     "output_type": "stream",
     "text": [
      "100 loops, best of 3: 6.16 ms per loop\n"
     ]
    }
   ],
   "source": [
    "%timeit Ksp.transpose(copy=False).dot(c)"
   ]
  },
  {
   "cell_type": "markdown",
   "metadata": {},
   "source": [
    "## Sparse matrix vector multiplication using MKL\n",
    "\n",
    "Intel's Math Kernel Library (MKL) provides BLAS routines for sparse matrices. In the following we are going to use those to compare their speed to using scipy's sparse routines (which are implemented directly even if scipy is linked against MKL)."
   ]
  },
  {
   "cell_type": "code",
   "execution_count": 11,
   "metadata": {
    "collapsed": false
   },
   "outputs": [],
   "source": [
    "# inspired by http://stackoverflow.com/questions/17158893/does-scipy-support-multithreading-for-sparse-matrix-multiplication-when-using-mk\n",
    "# and https://github.com/afedynitch/MCEq/blob/master/MCEq/kernels.py\n",
    "\n",
    "def SpMV_viaMKL(A, x, trans=False):\n",
    "    \"\"\"\n",
    "    Wrapper to Intel's Sparse Matrix-Vector multiplaction routine.\n",
    "    Handles rectangular matrices\n",
    "    \"\"\"\n",
    " \n",
    "    from ctypes import POINTER,c_void_p,c_int,c_char,c_double,byref,cdll\n",
    "    mkl = cdll.LoadLibrary(\"libmkl_rt.so\")\n",
    "    mkl.mkl_set_num_threads(byref(c_int(4)))\n",
    "\n",
    "    SpMV = mkl.mkl_dcsrmv\n",
    "    (m, k) = A.shape\n",
    "\n",
    "    data    = A.data.ctypes.data_as(POINTER(c_double))\n",
    "    pb = A.indptr[:-1].ctypes.data_as(POINTER(c_int))\n",
    "    pe = A.indptr[1:].ctypes.data_as(POINTER(c_int))\n",
    "    indices = A.indices.ctypes.data_as(POINTER(c_int))\n",
    "\n",
    "    # Allocate output, using same conventions as input\n",
    "    insize = m if trans else k\n",
    "    outsize = k if trans else m\n",
    "    y = np.empty(outsize, dtype=np.double, order='F')\n",
    "    if x.size != insize:\n",
    "        raise Exception(\"x must have n entries. x.size is %d, n is %d\" % (x.size, outsize))\n",
    "\n",
    "    # Check input\n",
    "    if x.dtype.type is not np.double:\n",
    "        x = x.astype(np.double, copy=True)\n",
    "\n",
    "    np_x = x.ctypes.data_as(POINTER(c_double))\n",
    "    np_y = y.ctypes.data_as(POINTER(c_double))\n",
    "    # now call MKL. This returns the answer in np_y, which links to y\n",
    "    alpha = c_double(1.0)\n",
    "    beta = c_double(0.0)\n",
    "    npmatd = np.chararray(6)\n",
    "    npmatd[0] = 'G'\n",
    "    npmatd[3] = 'C'\n",
    "    matdescra = npmatd.ctypes.data_as(POINTER(c_char))\n",
    "    SpMV(byref(c_char(\"T\" if trans else \"N\")), byref(c_int(m)), byref(c_int(k)), byref(alpha),\n",
    "         matdescra, data, indices, pb, pe, np_x, byref(beta), np_y ) \n",
    "    return y"
   ]
  },
  {
   "cell_type": "code",
   "execution_count": 12,
   "metadata": {
    "collapsed": false
   },
   "outputs": [],
   "source": [
    "Kfloat = K.astype(np.float)\n",
    "Kfloatsp = scipy.sparse.csr_matrix(Kfloat)"
   ]
  },
  {
   "cell_type": "code",
   "execution_count": 13,
   "metadata": {
    "collapsed": false
   },
   "outputs": [
    {
     "data": {
      "text/plain": [
       "True"
      ]
     },
     "execution_count": 13,
     "metadata": {},
     "output_type": "execute_result"
    }
   ],
   "source": [
    "np.all(SpMV_viaMKL(Kfloatsp, a) == Ksp.dot(a))"
   ]
  },
  {
   "cell_type": "code",
   "execution_count": 14,
   "metadata": {
    "collapsed": false
   },
   "outputs": [
    {
     "name": "stdout",
     "output_type": "stream",
     "text": [
      "100 loops, best of 3: 3.29 ms per loop\n"
     ]
    }
   ],
   "source": [
    "%timeit SpMV_viaMKL(Kfloatsp, a)"
   ]
  },
  {
   "cell_type": "code",
   "execution_count": 15,
   "metadata": {
    "collapsed": false
   },
   "outputs": [
    {
     "data": {
      "text/plain": [
       "True"
      ]
     },
     "execution_count": 15,
     "metadata": {},
     "output_type": "execute_result"
    }
   ],
   "source": [
    "np.all(SpMV_viaMKL(Kfloatsp, c, True)  == c.dot(K))"
   ]
  },
  {
   "cell_type": "code",
   "execution_count": 16,
   "metadata": {
    "collapsed": false
   },
   "outputs": [
    {
     "name": "stdout",
     "output_type": "stream",
     "text": [
      "1000 loops, best of 3: 1.95 ms per loop\n"
     ]
    }
   ],
   "source": [
    "%timeit SpMV_viaMKL(Kfloatsp, c, True)"
   ]
  },
  {
   "cell_type": "markdown",
   "metadata": {
    "collapsed": true
   },
   "source": [
    "## Conclusions\n",
    "\n",
    "Using sparse matrices can provide huge speed-ups even for moderate sparsity in high dimensions. There is a cross-over with the scipy routines performing better for smaller matrices and MKL routines for larger matrices."
   ]
  }
 ],
 "metadata": {
  "anaconda-cloud": {},
  "kernelspec": {
   "display_name": "Python [conda env:condapy2]",
   "language": "python",
   "name": "conda-env-condapy2-py"
  },
  "language_info": {
   "codemirror_mode": {
    "name": "ipython",
    "version": 2
   },
   "file_extension": ".py",
   "mimetype": "text/x-python",
   "name": "python",
   "nbconvert_exporter": "python",
   "pygments_lexer": "ipython2",
   "version": "2.7.13"
  },
  "toc": {
   "colors": {
    "hover_highlight": "#DAA520",
    "running_highlight": "#FF0000",
    "selected_highlight": "#FFD700"
   },
   "moveMenuLeft": true,
   "nav_menu": {
    "height": "95px",
    "width": "252px"
   },
   "navigate_menu": true,
   "number_sections": true,
   "sideBar": true,
   "threshold": 4,
   "toc_cell": false,
   "toc_section_display": "block",
   "toc_window_display": false
  }
 },
 "nbformat": 4,
 "nbformat_minor": 0
}
