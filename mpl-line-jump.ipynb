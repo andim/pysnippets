{
 "metadata": {
  "name": "",
  "signature": ""
 },
 "nbformat": 3,
 "nbformat_minor": 0,
 "worksheets": [
  {
   "cells": [
    {
     "cell_type": "heading",
     "level": 1,
     "metadata": {},
     "source": [
      "Plot a line from discrete data with extrapolated jumps"
     ]
    },
    {
     "cell_type": "markdown",
     "metadata": {},
     "source": [
      "Aim: connect discrete data points sampling a function with jumps in a nice way."
     ]
    },
    {
     "cell_type": "code",
     "collapsed": false,
     "input": [
      "import numpy as np\n",
      "\n",
      "import matplotlib.pyplot as plt\n",
      "%matplotlib inline\n",
      "\n",
      "%load_ext autoreload\n",
      "%autoreload 2"
     ],
     "language": "python",
     "metadata": {},
     "outputs": []
    },
    {
     "cell_type": "code",
     "collapsed": false,
     "input": [
      "def jumpify(x, y, threshold=1.0):\n",
      "    \"\"\"Add extrapolated intermediate point at position of jumps\"\"\"\n",
      "    oldx, oldy = np.asarray(x), np.asarray(y)\n",
      "    for i in range(len(np.where(np.abs(np.diff(y)) > threshold)[0])):\n",
      "        ind = np.where(np.abs(np.diff(oldy)) > threshold)[0][i]\n",
      "        newx = list(oldx[:ind+1])\n",
      "        midx = 0.5*(oldx[ind]+oldx[ind+1])\n",
      "        newx.extend([midx, midx])\n",
      "        newx.extend(oldx[ind+1:])\n",
      "        newy = list(oldy[:ind+1])\n",
      "        newy.extend([1.5*oldy[ind]-0.5*oldy[ind-1], 1.5*oldy[ind+1]-0.5*oldy[ind+2]])\n",
      "        newy.extend(oldy[ind+1:])\n",
      "        oldx, oldy = newx, newy\n",
      "    return oldx, oldy"
     ],
     "language": "python",
     "metadata": {},
     "outputs": []
    },
    {
     "cell_type": "heading",
     "level": 2,
     "metadata": {},
     "source": [
      "Example usage"
     ]
    },
    {
     "cell_type": "code",
     "collapsed": false,
     "input": [
      "def f(x):\n",
      "    return np.where(x < 0.5, x, x + 0.5)\n",
      "x = np.linspace(0, 1, 10)\n",
      "plt.plot(x, f(x), 'bo-', label='sampling points with connecting line')\n",
      "newx, newy = jumpify(x, f(x), threshold=0.2)\n",
      "plt.plot(newx, newy, 'g-', label='jumpified line')\n",
      "plt.legend(bbox_to_anchor=(1.0, 1.0))"
     ],
     "language": "python",
     "metadata": {},
     "outputs": []
    },
    {
     "cell_type": "code",
     "collapsed": false,
     "input": [],
     "language": "python",
     "metadata": {},
     "outputs": []
    }
   ],
   "metadata": {}
  }
 ]
}