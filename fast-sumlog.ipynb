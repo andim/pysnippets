{
 "cells": [
  {
   "cell_type": "markdown",
   "metadata": {},
   "source": [
    "# Fast calculation of the mean of a logarithm of an array"
   ]
  },
  {
   "cell_type": "markdown",
   "metadata": {},
   "source": [
    "We want to calculate $\\sum_{i=1}^N \\log x_i$. As calculating the logarithm is expensive we can make use of the identity $\\sum_{i=1}^N \\log x_i = \\log \\prod_{i=1}^N x_i$. We have to be careful though to avoid loss of precision in the product. In practice we thus apply the identity on chunks of data whose size is dyamically determined."
   ]
  },
  {
   "cell_type": "code",
   "execution_count": 1,
   "metadata": {
    "collapsed": false
   },
   "outputs": [],
   "source": [
    "import numpy as np\n",
    "%load_ext cython"
   ]
  },
  {
   "cell_type": "code",
   "execution_count": 2,
   "metadata": {
    "collapsed": false
   },
   "outputs": [],
   "source": [
    "def meanlog(data):\n",
    "    return np.mean(np.log(data))"
   ]
  },
  {
   "cell_type": "code",
   "execution_count": 3,
   "metadata": {
    "collapsed": false
   },
   "outputs": [],
   "source": [
    "%%cython\n",
    "import cython\n",
    "import numpy as np\n",
    "cimport numpy as np\n",
    "from libc.math cimport log\n",
    "@cython.boundscheck(False)\n",
    "@cython.wraparound(False)\n",
    "def meanlogc(np.ndarray[np.double_t, ndim=1] data):\n",
    "    # speed up calculation of sum of log by calculating log of product\n",
    "    cdef double res = 0.0\n",
    "    cdef double tmp = 1.0\n",
    "    for i in range(data.shape[0]):\n",
    "        tmp *= data[i]\n",
    "        if not (1e-14 < tmp < 1e14):\n",
    "            res += log(tmp)\n",
    "            tmp = 1.0\n",
    "    res += log(tmp)\n",
    "    return res/data.shape[0]"
   ]
  },
  {
   "cell_type": "code",
   "execution_count": 4,
   "metadata": {
    "collapsed": false
   },
   "outputs": [
    {
     "name": "stdout",
     "output_type": "stream",
     "text": [
      "-2.6880131398e-05 -2.6880131398e-05\n",
      "10 loops, best of 3: 88.9 ms per loop\n",
      "100 loops, best of 3: 2.03 ms per loop\n"
     ]
    }
   ],
   "source": [
    "N = int(1e6)\n",
    "n = int(1e3)\n",
    "data = np.random.lognormal(size=N)\n",
    "print meanlog(data), meanlogc(data)\n",
    "%timeit meanlog(data)\n",
    "%timeit meanlogc(data)"
   ]
  }
 ],
 "metadata": {
  "anaconda-cloud": {},
  "kernelspec": {
   "display_name": "Python [conda env:condapy2]",
   "language": "python",
   "name": "conda-env-condapy2-py"
  },
  "language_info": {
   "codemirror_mode": {
    "name": "ipython",
    "version": 2
   },
   "file_extension": ".py",
   "mimetype": "text/x-python",
   "name": "python",
   "nbconvert_exporter": "python",
   "pygments_lexer": "ipython2",
   "version": "2.7.13"
  },
  "toc": {
   "colors": {
    "hover_highlight": "#DAA520",
    "running_highlight": "#FF0000",
    "selected_highlight": "#FFD700"
   },
   "moveMenuLeft": true,
   "nav_menu": {
    "height": "40px",
    "width": "252px"
   },
   "navigate_menu": true,
   "number_sections": true,
   "sideBar": true,
   "threshold": 4,
   "toc_cell": false,
   "toc_section_display": "block",
   "toc_window_display": false
  }
 },
 "nbformat": 4,
 "nbformat_minor": 0
}
