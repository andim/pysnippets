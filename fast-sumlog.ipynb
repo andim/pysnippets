{
 "metadata": {
  "name": "",
  "signature": "sha256:88f53e115aa8d3ca97cef234d08bd06a0b7080314d4d95b4f0203ca42545f899"
 },
 "nbformat": 3,
 "nbformat_minor": 0,
 "worksheets": [
  {
   "cells": [
    {
     "cell_type": "heading",
     "level": 1,
     "metadata": {},
     "source": [
      "Fast calculation of the mean of a logarithm of an array"
     ]
    },
    {
     "cell_type": "markdown",
     "metadata": {},
     "source": [
      "We want to calculate $\\sum_{i=1}^N \\log x_i$. As calculating the logarithm is expensive we can make use of the identity $\\sum_{i=1}^N \\log x_i = \\log \\prod_{i=1}^N x_i$. We have to be careful though to avoid loss of precision in the product. In practice we thus apply the identity on chunks of data whose size is dyamically determined."
     ]
    },
    {
     "cell_type": "code",
     "collapsed": false,
     "input": [
      "import numpy as np\n",
      "%load_ext cythonmagic"
     ],
     "language": "python",
     "metadata": {},
     "outputs": [],
     "prompt_number": 1
    },
    {
     "cell_type": "code",
     "collapsed": false,
     "input": [
      "def meanlog(data):\n",
      "    return np.mean(np.log(data))"
     ],
     "language": "python",
     "metadata": {},
     "outputs": [],
     "prompt_number": 2
    },
    {
     "cell_type": "code",
     "collapsed": false,
     "input": [
      "%%cython\n",
      "import cython\n",
      "import numpy as np\n",
      "cimport numpy as np\n",
      "from libc.math cimport log\n",
      "@cython.boundscheck(False)\n",
      "@cython.wraparound(False)\n",
      "def meanlogc(np.ndarray[np.double_t, ndim=1] data):\n",
      "    # speed up calculation of sum of log by calculating log of product\n",
      "    cdef double res = 0.0\n",
      "    cdef double tmp = 1.0\n",
      "    for i in range(data.shape[0]):\n",
      "        tmp *= data[i]\n",
      "        if not (1e-14 < tmp < 1e14):\n",
      "            res += log(tmp)\n",
      "            tmp = 1.0\n",
      "    res += log(tmp)\n",
      "    return res/data.shape[0]"
     ],
     "language": "python",
     "metadata": {},
     "outputs": [],
     "prompt_number": 3
    },
    {
     "cell_type": "code",
     "collapsed": false,
     "input": [
      "N = int(1e6)\n",
      "n = int(1e3)\n",
      "data = np.random.lognormal(size=N)\n",
      "print meanlog(data), meanlogc(data)\n",
      "%timeit meanlog(data)\n",
      "%timeit meanlogc(data)"
     ],
     "language": "python",
     "metadata": {},
     "outputs": [
      {
       "output_type": "stream",
       "stream": "stdout",
       "text": [
        "-0.000668761238709 -0.000668761238709\n",
        "10 loops, best of 3: 35.9 ms per loop"
       ]
      },
      {
       "output_type": "stream",
       "stream": "stdout",
       "text": [
        "\n",
        "1000 loops, best of 3: 2.01 ms per loop"
       ]
      },
      {
       "output_type": "stream",
       "stream": "stdout",
       "text": [
        "\n"
       ]
      }
     ],
     "prompt_number": 4
    }
   ],
   "metadata": {}
  }
 ]
}